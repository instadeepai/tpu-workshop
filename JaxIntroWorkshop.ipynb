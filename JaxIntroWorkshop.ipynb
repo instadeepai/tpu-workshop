{
  "nbformat": 4,
  "nbformat_minor": 0,
  "metadata": {
    "colab": {
      "provenance": [],
      "toc_visible": true,
      "gpuType": "T4"
    },
    "kernelspec": {
      "name": "python3",
      "display_name": "Python 3"
    },
    "language_info": {
      "name": "python"
    }
  },
  "cells": [
    {
      "cell_type": "markdown",
      "source": [
        "# Intro To JAX\n",
        "\n",
        "<a target=\"_blank\" href=\"https://colab.research.google.com/github/instadeepai/tpu-workshop/blob/main/JaxIntroWorkshop.ipynb\">\n",
        "  <img src=\"https://colab.research.google.com/assets/colab-badge.svg\" alt=\"Open In Colab\"/>\n",
        "</a>\n",
        "\n",
        "In this workshop we will walk through a crash course in JAX, going through everthing you need to know to start developing algorithms on Google Cloud TPU's🌩️! \n",
        "\n",
        "### &#x1F440; **Contents**\n",
        "\n",
        "* &#x1F6A7; [Setup](#scrollTo=uTgyaSXdXTV2&line=1&uniqifier=1)\n",
        "\n",
        "* 🤔 [What Is JAX](#scrollTo=JGkHAequ08zr&line=1&uniqifier=1)\n",
        "\n",
        "* 😀 [JAX Basics](#scrollTo=Q8dT4n8DebuP&line=1&uniqifier=1)\n",
        "\n",
        "    * 🏍️ [Accelerated Numpy](#scrollTo=4ZM6E8Zl01Wf&line=1&uniqifier=1)\n",
        "\n",
        "    * 🔒 [Immutability](#scrollTo=WM2fgptY1tYg&line=1&uniqifier=1)\n",
        "\n",
        "    * 🎲 [Randomness](#scrollTo=VEwV_x1iAJ7_&line=1&uniqifier=1)\n",
        "\n",
        "    * 🖥️ [Agnostic Backend](#scrollTo=BWdqwGjzA-ci&line=1&uniqifier=1)\n",
        "\n",
        "* 🤖 [JAX Transformations](#scrollTo=6qPm35e3eh2U&line=1&uniqifier=1)\n",
        "\n",
        "    * [Jit](#scrollTo=BWdqwGjzA-ci&line=1&uniqifier=1)\n",
        "\n",
        "    * [Grad](#scrollTo=BWdqwGjzA-ci&line=1&uniqifier=1)\n",
        "\n",
        "    * [Vmap](#scrollTo=BWdqwGjzA-ci&line=1&uniqifier=1)\n",
        "\n",
        "    * [Pmap](#scrollTo=BWdqwGjzA-ci&line=1&uniqifier=1)\n",
        "\n",
        "* 📈 [Model Training](#scrollTo=kkdWuxuETlbE&line=7&uniqifier=1)\n",
        "\n",
        "* 🔢[Coding Challenge](#scrollTo=Un0kkCZ0tEzK)\n",
        "\n",
        "* 📚 [Further Reading?](#scrollTo=-mI2c8DjwS3n&line=6&uniqifier=1)\n"
      ],
      "metadata": {
        "id": "F6_OPQLK7YKn"
      }
    },
    {
      "cell_type": "markdown",
      "source": [
        "# Setup "
      ],
      "metadata": {
        "id": "uTgyaSXdXTV2"
      }
    },
    {
      "cell_type": "code",
      "execution_count": 88,
      "metadata": {
        "id": "NTpDljzzsjtU",
        "colab": {
          "base_uri": "https://localhost:8080/"
        },
        "outputId": "1cf6c744-ca64-493b-e6b1-02d3e95900a0"
      },
      "outputs": [
        {
          "output_type": "stream",
          "name": "stdout",
          "text": [
            "Only CPU accelerator is connected.\n"
          ]
        }
      ],
      "source": [
        "## Install and import anything required. Capture hides the output from the cell.\n",
        "\n",
        "import subprocess\n",
        "import os\n",
        "\n",
        "# Based on https://stackoverflow.com/questions/67504079/how-to-check-if-an-nvidia-gpu-is-available-on-my-system\n",
        "try:\n",
        "    subprocess.check_output('nvidia-smi')\n",
        "    print(\"a GPU is connected.\")\n",
        "except Exception: \n",
        "    # TPU or CPU\n",
        "    if \"COLAB_TPU_ADDR\" in os.environ and os.environ[\"COLAB_TPU_ADDR\"]:\n",
        "      print(\"A TPU is connected.\")\n",
        "      import jax.tools.colab_tpu\n",
        "      jax.tools.colab_tpu.setup_tpu()\n",
        "    else:\n",
        "      print(\"Only CPU accelerator is connected.\")\n",
        "      # x8 cpu devices - number of (emulated) host devices\n",
        "      os.environ[\"XLA_FLAGS\"] = \"--xla_force_host_platform_device_count=8\"\n",
        "import jax\n",
        "import jax.numpy as jnp\n",
        "from jax import grad, jit, vmap, pmap\n",
        "\n",
        "import matplotlib.pyplot as plt\n",
        "import numpy as np"
      ]
    },
    {
      "cell_type": "code",
      "source": [
        "# @title Helper Functions. (Run Cell)\n",
        "import copy\n",
        "from typing import Dict\n",
        "\n",
        "\n",
        "def plot_performance(data: Dict, title: str):\n",
        "    runs = list(data.keys())\n",
        "    time = list(data.values())\n",
        "\n",
        "    # creating the bar plot\n",
        "    plt.bar(runs, time, width=0.35)\n",
        "\n",
        "    plt.xlabel(\"Implementation\")\n",
        "    plt.ylabel(\"Average time taken (in s)\")\n",
        "    plt.title(title)\n",
        "    plt.show()\n",
        "\n",
        "    best_perf_key = min(data, key=data.get)\n",
        "    all_runs_key = copy.copy(runs)\n",
        "\n",
        "    # all_runs_key_except_best\n",
        "    all_runs_key.remove(best_perf_key)\n",
        "\n",
        "    for k in all_runs_key:\n",
        "        print(\n",
        "            f\"{best_perf_key} was {round((data[k]/data[best_perf_key]),2)} times faster than {k} !!!\"\n",
        "        )"
      ],
      "metadata": {
        "id": "Ur9ZxjjVs8HN",
        "cellView": "form"
      },
      "execution_count": null,
      "outputs": []
    },
    {
      "cell_type": "code",
      "source": [
        "# @title Check the device you are using (Run Cell)\n",
        "print(f\"Num devices: {jax.device_count()}\")\n",
        "print(f\" Devices: {jax.devices()}\")"
      ],
      "metadata": {
        "id": "LdWajwL4s81U",
        "outputId": "8ecdd6dc-190a-4b59-fa04-8e8a460841de",
        "colab": {
          "base_uri": "https://localhost:8080/"
        },
        "cellView": "form"
      },
      "execution_count": null,
      "outputs": [
        {
          "output_type": "stream",
          "name": "stdout",
          "text": [
            "Num devices: 8\n",
            " Devices: [CpuDevice(id=0), CpuDevice(id=1), CpuDevice(id=2), CpuDevice(id=3), CpuDevice(id=4), CpuDevice(id=5), CpuDevice(id=6), CpuDevice(id=7)]\n"
          ]
        }
      ]
    },
    {
      "cell_type": "markdown",
      "source": [
        "# 🤔 What is JAX? \n",
        "\n",
        "JAX is a **high performance**, numerical computing library which focuses on generating **optimized code**, as **simply** as possible.\n",
        "\n",
        "By combining the best of NumPy, Autograd, and XLA (Accelerated Linear Algebra), JAX enables users to express complex algorithms while maintaining high performance. \n",
        "\n",
        "JAX focuses on providing minimal, yet powerful, low level operations and transformations that empower user to easily develop and scale scientific based experiments. \n",
        "\n",
        "To top it off, JAX automatically scales to all major Hardware Accelerators without the need for any code changes.\n"
      ],
      "metadata": {
        "id": "JGkHAequ08zr"
      }
    },
    {
      "cell_type": "markdown",
      "source": [
        "# JAX Basics\n"
      ],
      "metadata": {
        "id": "Q8dT4n8DebuP"
      }
    },
    {
      "cell_type": "markdown",
      "source": [
        "## Pure Functions\n",
        "\n",
        "JAX provides powerful transformations to help accelerate your code, but in order to do this relaibaly, JAX has be designed to with **pure functions**. These functions have the following properties:\n",
        "\n",
        "1. All **input** data is passed through the **function's parameters**. \n",
        "2. All **results** are output through the **function's return**. \n",
        "3. The function always returns the same **result** if invoked with the **same inputs**. What if your function involves randomness? Pass in the random seed!\n",
        "4. **No [side-effects](https://en.wikipedia.org/wiki/Side_effect_(computer_science))** - no mutation of non-local variables or input/output streams.  \n"
      ],
      "metadata": {
        "id": "GkN7CLotpmDJ"
      }
    },
    {
      "cell_type": "code",
      "source": [
        "# Impure - Bad\n",
        "\n",
        "global_term = 3\n",
        "outputs = 0\n",
        "\n",
        "def impure_function(x: int) -> None:\n",
        "    outputs = x + global_term \n",
        "\n",
        "# Pure - Good\n",
        "\n",
        "def pure_function(x: int, term: int) -> int:\n",
        "    return x + term"
      ],
      "metadata": {
        "id": "Tqm-ubHkpkwG"
      },
      "execution_count": null,
      "outputs": []
    },
    {
      "cell_type": "markdown",
      "source": [
        "## Accelerated Numpy \n",
        "\n",
        "JAX is frequently refered to as **Accelerated Numpy**.\n",
        "The main similarity between JAX and NumPy is that they share a similar interface and often, JAX and NumPy arrays can be used interchangeably. Most methods in NumPy will have a jax counter part, making JAX easier to pick up if you are already familiar with Numpy."
      ],
      "metadata": {
        "id": "4ZM6E8Zl01Wf"
      }
    },
    {
      "cell_type": "code",
      "source": [
        "# 100 linearly spaced numbers from -np.pi to np.pi\n",
        "x = np.linspace(-np.pi, np.pi, 100)\n",
        "\n",
        "# the function, which is y = sin(x) here\n",
        "y = np.sin(x)\n",
        "\n",
        "# plot the functions\n",
        "plt.plot(x, y, \"b\", label=\"y=sin(x)\")\n",
        "\n",
        "plt.legend(loc=\"upper left\")\n",
        "\n",
        "# show the plot\n",
        "plt.show()"
      ],
      "metadata": {
        "id": "dlFEyZshtBlq",
        "colab": {
          "base_uri": "https://localhost:8080/",
          "height": 430
        },
        "outputId": "9da999a7-a80b-4916-8abe-aa41a7e63959"
      },
      "execution_count": null,
      "outputs": [
        {
          "output_type": "display_data",
          "data": {
            "text/plain": [
              "<Figure size 640x480 with 1 Axes>"
            ],
            "image/png": "[encoded data removed]"
          },
          "metadata": {}
        }
      ]
    },
    {
      "cell_type": "code",
      "source": [
        "# 100 linearly spaced numbers from -jnp.pi to jnp.pi\n",
        "x = jnp.linspace(-jnp.pi, jnp.pi, 100)\n",
        "\n",
        "# the function, which is y = sin(x) here\n",
        "y = jnp.sin(x)\n",
        "\n",
        "# plot the functions\n",
        "plt.plot(x, y, \"b\", label=\"y=sin(x)\")\n",
        "\n",
        "plt.legend(loc=\"upper left\")\n",
        "\n",
        "# show the plot\n",
        "plt.show()"
      ],
      "metadata": {
        "colab": {
          "base_uri": "https://localhost:8080/",
          "height": 430
        },
        "id": "hF_o4i6b0sm1",
        "outputId": "63895025-6f6a-43c7-999a-9c719b381a38"
      },
      "execution_count": null,
      "outputs": [
        {
          "output_type": "display_data",
          "data": {
            "text/plain": [
              "<Figure size 640x480 with 1 Axes>"
            ],
            "image/png": "[encoded data removed]"
          },
          "metadata": {}
        }
      ]
    },
    {
      "cell_type": "markdown",
      "source": [
        "## Immutability\n",
        "\n",
        "One of the key differences between Numpy and JAX is that Jax arrays are **immutable** (they can't be modified after they are created). Allowing mutations makes transforms difficult and violates conditions for [pure functions](https://en.wikipedia.org/wiki/Pure_function)."
      ],
      "metadata": {
        "id": "WM2fgptY1tYg"
      }
    },
    {
      "cell_type": "code",
      "source": [
        "# NumPy: mutable arrays\n",
        "x = np.arange(10)\n",
        "x[0] = 10\n",
        "print(x)"
      ],
      "metadata": {
        "colab": {
          "base_uri": "https://localhost:8080/"
        },
        "id": "FiFcgVi81uyY",
        "outputId": "31b26dbb-a540-466d-f6db-297ee07833bb"
      },
      "execution_count": null,
      "outputs": [
        {
          "output_type": "stream",
          "name": "stdout",
          "text": [
            "[10  1  2  3  4  5  6  7  8  9]\n"
          ]
        }
      ]
    },
    {
      "cell_type": "code",
      "source": [
        "# JAX: immutable arrays\n",
        "# Should raise an error.\n",
        "try:\n",
        "    x = jnp.arange(10)\n",
        "    x[0] = 10\n",
        "except Exception as e:\n",
        "    print(\"Exception {}\".format(e))"
      ],
      "metadata": {
        "colab": {
          "base_uri": "https://localhost:8080/"
        },
        "id": "QWv8ZHCb3Uau",
        "outputId": "ed08fe9d-2557-47fb-e6e4-8ddd4216ea83"
      },
      "execution_count": null,
      "outputs": [
        {
          "output_type": "stream",
          "name": "stdout",
          "text": [
            "Exception '<class 'jaxlib.xla_extension.ArrayImpl'>' object does not support item assignment. JAX arrays are immutable. Instead of ``x[idx] = y``, use ``x = x.at[idx].set(y)`` or another .at[] method: https://jax.readthedocs.io/en/latest/_autosummary/jax.numpy.ndarray.at.html\n"
          ]
        }
      ]
    },
    {
      "cell_type": "code",
      "source": [
        "x = jnp.arange(10)\n",
        "new_x = x.at[0].set(10)\n",
        "print(f\" new_x: {new_x} original x: {x}\")"
      ],
      "metadata": {
        "colab": {
          "base_uri": "https://localhost:8080/"
        },
        "id": "uC4K-mVW3Yqt",
        "outputId": "c1e3de3f-b679-4d30-ef4f-82fcb95f21b9"
      },
      "execution_count": null,
      "outputs": [
        {
          "output_type": "stream",
          "name": "stdout",
          "text": [
            " new_x: [10  1  2  3  4  5  6  7  8  9] original x: [0 1 2 3 4 5 6 7 8 9]\n"
          ]
        }
      ]
    },
    {
      "cell_type": "markdown",
      "source": [
        "## Randomness\n",
        "Pseudo Random Number Generation (PRNG) is the process of algorithmically generating a sequence of numbers, which approximate the properties of a sequence of random numbers. JAX is more explicit in PRNG than NumPy and other libraries (such as TensorFlow or PyTorch) and uses a modern PRNG algorithm([Threefry counter-based PRNG](https://bashtage.github.io/randomgen/bit_generators/threefry.html)) that handles the random state explicitly.\n",
        "\n",
        "Let's see the differences in how JAX and NumPy generate random numbers."
      ],
      "metadata": {
        "id": "VEwV_x1iAJ7_"
      }
    },
    {
      "cell_type": "code",
      "source": [
        "# Set random seed\n",
        "np.random.seed(42)\n",
        "prng_state = np.random.get_state()"
      ],
      "metadata": {
        "id": "pZywwz3PALHY"
      },
      "execution_count": null,
      "outputs": []
    },
    {
      "cell_type": "code",
      "source": [
        "# @title Helper function to compare prng keys (Run Cell)\n",
        "def is_prng_state_the_same(prng_1, prng_2):\n",
        "    \"\"\"Helper function to compare two prng keys.\"\"\"\n",
        "    # concat all elements in prng tuple\n",
        "    list_prng_data_equal = [(a == b) for a, b in zip(prng_1, prng_2)]\n",
        "    # stack all elements together\n",
        "    list_prng_data_equal = np.hstack(list_prng_data_equal)\n",
        "    # check if all elements are the same\n",
        "    is_prng_equal = all(list_prng_data_equal)\n",
        "    return is_prng_equal"
      ],
      "metadata": {
        "id": "TtDyqu5MALiB"
      },
      "execution_count": null,
      "outputs": []
    },
    {
      "cell_type": "code",
      "source": [
        "# Example of PRNG in numpy, generate independent samples each time\n",
        "\n",
        "print(\n",
        "    f\"sample 1 = {np.random.normal()} Did prng state change: {not is_prng_state_the_same(prng_state,np.random.get_state())}\"\n",
        ")\n",
        "prng_state = np.random.get_state()\n",
        "print(\n",
        "    f\"sample 2 = {np.random.normal()} Did prng state change: {not is_prng_state_the_same(prng_state,np.random.get_state())}\"\n",
        ")\n",
        "prng_state = np.random.get_state()\n",
        "print(\n",
        "    f\"sample 3 = {np.random.normal()} Did prng state change: {not is_prng_state_the_same(prng_state,np.random.get_state())}\"\n",
        ")"
      ],
      "metadata": {
        "colab": {
          "base_uri": "https://localhost:8080/"
        },
        "id": "NTG-aYPLAOSF",
        "outputId": "8a993b19-0976-44dd-98f1-5b5e429edbba"
      },
      "execution_count": null,
      "outputs": [
        {
          "output_type": "stream",
          "name": "stdout",
          "text": [
            "sample 1 = 0.4967141530112327 Did prng state change: True\n",
            "sample 2 = -0.13826430117118466 Did prng state change: True\n",
            "sample 3 = 0.6476885381006925 Did prng state change: True\n"
          ]
        }
      ]
    },
    {
      "cell_type": "code",
      "source": [
        "# Example of PRNG in JAX, same key will always provide the same output\n",
        "from jax import random\n",
        "\n",
        "key = random.PRNGKey(42)\n",
        "print(f\"sample 1 = {random.normal(key)}\")\n",
        "print(f\"sample 2 = {random.normal(key)}\")\n",
        "print(f\"sample 3 = {random.normal(key)}\")"
      ],
      "metadata": {
        "colab": {
          "base_uri": "https://localhost:8080/"
        },
        "id": "lFihTKTYAQ-x",
        "outputId": "39fb07b2-5793-4e3f-843e-29c9e2f84731"
      },
      "execution_count": null,
      "outputs": [
        {
          "output_type": "stream",
          "name": "stdout",
          "text": [
            "sample 1 = -0.1847117692232132\n",
            "sample 2 = -0.1847117692232132\n",
            "sample 3 = -0.1847117692232132\n"
          ]
        }
      ]
    },
    {
      "cell_type": "code",
      "source": [
        "# Example of splitting our random key in order to generate independent \n",
        "# samples with JAX\n",
        "\n",
        "from jax import random\n",
        "\n",
        "key = random.PRNGKey(42)\n",
        "print(f\"sample 1 = {random.normal(key)}\")\n",
        "\n",
        "# We split the key -> new key and subkey\n",
        "new_key, subkey = random.split(key)\n",
        "\n",
        "# We use the subkey immediately and keep the new key for future splits.\n",
        "# It doesn't really matter which key we keep and which one we use immediately.\n",
        "print(f\"sample 2 = {random.normal(subkey)}\")\n",
        "\n",
        "# We split the new key -> new key2 and subkey\n",
        "new_key2, subkey = random.split(new_key)\n",
        "print(f\"sample 3 = {random.normal(subkey)}\")"
      ],
      "metadata": {
        "colab": {
          "base_uri": "https://localhost:8080/"
        },
        "id": "cH7ZeoZfATt3",
        "outputId": "24517817-448d-429e-feb6-c72f973abb91"
      },
      "execution_count": null,
      "outputs": [
        {
          "output_type": "stream",
          "name": "stdout",
          "text": [
            "sample 1 = -0.1847117692232132\n",
            "sample 2 = 1.369469404220581\n",
            "sample 3 = -0.19947023689746857\n"
          ]
        }
      ]
    },
    {
      "cell_type": "markdown",
      "source": [
        "##Agnostic Backend\n",
        "\n"
      ],
      "metadata": {
        "id": "BWdqwGjzA-ci"
      }
    },
    {
      "cell_type": "code",
      "source": [
        "size = 1000\n",
        "x = np.random.normal(size=(size, size))\n",
        "y = np.random.normal(size=(size, size))\n",
        "numpy_time = %timeit -o -n 10 a_np = np.dot(y,x.T)"
      ],
      "metadata": {
        "colab": {
          "base_uri": "https://localhost:8080/"
        },
        "id": "Nv7AW2_cAWb7",
        "outputId": "f6838b10-bacc-4dcd-8339-58eceed3e4b3"
      },
      "execution_count": null,
      "outputs": [
        {
          "output_type": "stream",
          "name": "stdout",
          "text": [
            "82.5 ms ± 20.9 ms per loop (mean ± std. dev. of 7 runs, 10 loops each)\n"
          ]
        }
      ]
    },
    {
      "cell_type": "code",
      "source": [
        "size = 1000\n",
        "key1, key2 = jax.random.split(jax.random.PRNGKey(42), num=2)\n",
        "x = jax.random.normal(key1, shape=(size, size))\n",
        "y = jax.random.normal(key2, shape=(size, size))\n",
        "jax_time = %timeit -o -n 10 jnp.dot(y, x.T).block_until_ready()"
      ],
      "metadata": {
        "colab": {
          "base_uri": "https://localhost:8080/"
        },
        "id": "Og1NrXXHBEiP",
        "outputId": "59a0633f-d6dd-4b7c-9f81-8e9fd7d4e2ea"
      },
      "execution_count": null,
      "outputs": [
        {
          "output_type": "stream",
          "name": "stdout",
          "text": [
            "38.2 ms ± 1.49 ms per loop (mean ± std. dev. of 7 runs, 10 loops each)\n"
          ]
        }
      ]
    },
    {
      "cell_type": "code",
      "source": [
        "np_average_time = np.mean(numpy_time.all_runs)\n",
        "jax_average_time = np.mean(jax_time.all_runs)\n",
        "data = {\"numpy\": np_average_time, \"jax\": jax_average_time}\n",
        "\n",
        "plot_performance(data, title=\"Average time taken per framework to run dot product\")"
      ],
      "metadata": {
        "colab": {
          "base_uri": "https://localhost:8080/",
          "height": 489
        },
        "id": "LvMcoZfUBHRp",
        "outputId": "bcf116f6-0a39-4fb6-8e5c-88df3a80418b"
      },
      "execution_count": null,
      "outputs": [
        {
          "output_type": "display_data",
          "data": {
            "text/plain": [
              "<Figure size 640x480 with 1 Axes>"
            ],
            "image/png": "[encoded data removed]"
          },
          "metadata": {}
        },
        {
          "output_type": "stream",
          "name": "stdout",
          "text": [
            "jax was 2.16 times faster than numpy !!!\n"
          ]
        }
      ]
    },
    {
      "cell_type": "markdown",
      "source": [
        "# JAX Transformations\n",
        "\n",
        "JAX transformations are functions that help modify and manipulate your normal python functions to execute them efficiently on hardware accelerators like TPUs."
      ],
      "metadata": {
        "id": "6qPm35e3eh2U"
      }
    },
    {
      "cell_type": "markdown",
      "source": [
        "##Jit Compiling\n",
        "\n",
        "JIT compilers compile the code during execution, translating parts of the source code into machine code just before they are run. \n",
        "\n",
        "This allows for optimizations tailored to the specific runtime context, such as function inlining, loop unrolling, or type specialization, and can lead to significant performance improvements."
      ],
      "metadata": {
        "id": "T4EW239KJ0sA"
      }
    },
    {
      "cell_type": "code",
      "source": [
        "def relu(x):\n",
        "    return jnp.where(x > 0, x, 0)\n",
        "    # Another option - return jnp.maximum(x,0)"
      ],
      "metadata": {
        "id": "G-hvya5YKG5i"
      },
      "execution_count": null,
      "outputs": []
    },
    {
      "cell_type": "code",
      "source": [
        "# jit our function\n",
        "relu_jit = jax.jit(relu)\n",
        "\n",
        "# generate random input\n",
        "key = jax.random.PRNGKey(42)\n",
        "num_random_numbers = 1000000\n",
        "x = jax.random.normal(key, (num_random_numbers,))\n",
        "\n",
        "# time normal jit function\n",
        "jax_time = %timeit -o -n 10 relu(x).block_until_ready()\n",
        "\n",
        "# Warm up/Compile - first run for jitted function\n",
        "relu_jit(x).block_until_ready()\n",
        "\n",
        "# time jitted function\n",
        "jax_jit_time = %timeit -o -n 10 relu_jit(x).block_until_ready()\n",
        "\n",
        "# Let's plot the performance difference\n",
        "jax_avg_time = np.mean(jax_time.all_runs)\n",
        "jax_jit_avg_time = np.mean(jax_jit_time.all_runs)\n",
        "data = {\"JAX (no jit)\": jax_avg_time, \"JAX (with jit)\": jax_jit_avg_time}\n",
        "\n",
        "plot_performance(data, title=\"Average time taken for ReLU function\")"
      ],
      "metadata": {
        "colab": {
          "base_uri": "https://localhost:8080/",
          "height": 541
        },
        "id": "Hr3_7L7VBMMU",
        "outputId": "59ef5f40-7f5c-423a-d983-fd4feaeaf082"
      },
      "execution_count": null,
      "outputs": [
        {
          "output_type": "stream",
          "name": "stdout",
          "text": [
            "The slowest run took 11.75 times longer than the fastest. This could mean that an intermediate result is being cached.\n",
            "1.83 ms ± 2.53 ms per loop (mean ± std. dev. of 7 runs, 10 loops each)\n",
            "431 µs ± 26.3 µs per loop (mean ± std. dev. of 7 runs, 10 loops each)\n"
          ]
        },
        {
          "output_type": "display_data",
          "data": {
            "text/plain": [
              "<Figure size 640x480 with 1 Axes>"
            ],
            "image/png": "[encoded data removed]"
          },
          "metadata": {}
        },
        {
          "output_type": "stream",
          "name": "stdout",
          "text": [
            "JAX (with jit) was 4.24 times faster than JAX (no jit) !!!\n"
          ]
        }
      ]
    },
    {
      "cell_type": "markdown",
      "source": [
        "##Grad\n",
        "\n",
        "Grad allows us to easily calculate the gradients of a given function. "
      ],
      "metadata": {
        "id": "zpfw_MmJKt1-"
      }
    },
    {
      "cell_type": "code",
      "source": [
        "f = lambda x: 6 * x**4 - 9 * x + 4"
      ],
      "metadata": {
        "id": "dG3sfi0xKMaM"
      },
      "execution_count": null,
      "outputs": []
    },
    {
      "cell_type": "code",
      "source": [
        "dfdx = grad(f)\n",
        "dfdx_3 = dfdx(3.0)\n",
        "\n",
        "print(\"Grad of f(3): \", dfdx_3)"
      ],
      "metadata": {
        "colab": {
          "base_uri": "https://localhost:8080/"
        },
        "id": "Rz7NQyu8KvEE",
        "outputId": "ccd364b7-28d3-4cf8-b96f-984b15eeb95f"
      },
      "execution_count": null,
      "outputs": [
        {
          "output_type": "stream",
          "name": "stdout",
          "text": [
            "Grad of f(3):  639.0\n"
          ]
        }
      ]
    },
    {
      "cell_type": "code",
      "source": [
        "d3dx = grad(grad(grad(f)))\n",
        "print(\"3rd order gradients of f(3): \", d3dx(3.0))"
      ],
      "metadata": {
        "colab": {
          "base_uri": "https://localhost:8080/"
        },
        "id": "WJ_-vz7kK3zm",
        "outputId": "d52e42ec-41a3-4983-c714-e78676d54e9b"
      },
      "execution_count": null,
      "outputs": [
        {
          "output_type": "stream",
          "name": "stdout",
          "text": [
            "3rd order gradients of f(3):  432.0\n"
          ]
        }
      ]
    },
    {
      "cell_type": "markdown",
      "source": [
        "##Vmap\n",
        "\n",
        " Vmap vectorizes or \"maps\" a function over some dimension of its input. Essentially, it transforms a function that works on single data points into a function that works on batches of data points, allowing for efficient parallel computation."
      ],
      "metadata": {
        "id": "IM4ZBJ_QMgtE"
      }
    },
    {
      "cell_type": "code",
      "source": [
        "# @title Illustration of Manual Batching (Run me)\n",
        "from IPython.display import HTML\n",
        "\n",
        "HTML(\n",
        "    '<iframe width=\"560\" height=\"315\" src=\"https://www.assemblyai.com/blog/content/media/2022/02/not_vectorized-1.mp4\" frameborder=\"0\" allow=\"accelerometer; autoplay; encrypted-media; gyroscope; picture-in-picture\" allowfullscreen></iframe>'\n",
        ")"
      ],
      "metadata": {
        "colab": {
          "base_uri": "https://localhost:8080/",
          "height": 391
        },
        "id": "vk7NGmqvGGBe",
        "outputId": "da603177-50ef-4b5b-db08-fdcd6541337e"
      },
      "execution_count": null,
      "outputs": [
        {
          "output_type": "stream",
          "name": "stderr",
          "text": [
            "/usr/local/lib/python3.10/dist-packages/IPython/core/display.py:724: UserWarning: Consider using IPython.display.IFrame instead\n",
            "  warnings.warn(\"Consider using IPython.display.IFrame instead\")\n"
          ]
        },
        {
          "output_type": "execute_result",
          "data": {
            "text/plain": [
              "<IPython.core.display.HTML object>"
            ],
            "text/html": [
              "<iframe width=\"560\" height=\"315\" src=\"https://www.assemblyai.com/blog/content/media/2022/02/not_vectorized-1.mp4\" frameborder=\"0\" allow=\"accelerometer; autoplay; encrypted-media; gyroscope; picture-in-picture\" allowfullscreen></iframe>"
            ]
          },
          "metadata": {},
          "execution_count": 67
        }
      ]
    },
    {
      "cell_type": "code",
      "source": [
        "def min_max(x):\n",
        "    return jnp.array([jnp.min(x), jnp.max(x)])"
      ],
      "metadata": {
        "id": "jr68oIiTMEwy"
      },
      "execution_count": null,
      "outputs": []
    },
    {
      "cell_type": "code",
      "source": [
        "x = jnp.arange(5)\n",
        "min_max(x)"
      ],
      "metadata": {
        "colab": {
          "base_uri": "https://localhost:8080/"
        },
        "id": "X8EsuPxFMkvk",
        "outputId": "863fe031-b7d4-4268-d4bf-426f8eb100fc"
      },
      "execution_count": null,
      "outputs": [
        {
          "output_type": "execute_result",
          "data": {
            "text/plain": [
              "Array([0, 4], dtype=int32)"
            ]
          },
          "metadata": {},
          "execution_count": 69
        }
      ]
    },
    {
      "cell_type": "code",
      "source": [
        "batch_size = 3\n",
        "batched_x = np.arange(15).reshape((batch_size, -1))\n",
        "print(batched_x)"
      ],
      "metadata": {
        "colab": {
          "base_uri": "https://localhost:8080/"
        },
        "id": "aW56ptsDMmzF",
        "outputId": "9f15d8b1-5900-473c-c85f-ec176359186f"
      },
      "execution_count": null,
      "outputs": [
        {
          "output_type": "stream",
          "name": "stdout",
          "text": [
            "[[ 0  1  2  3  4]\n",
            " [ 5  6  7  8  9]\n",
            " [10 11 12 13 14]]\n"
          ]
        }
      ]
    },
    {
      "cell_type": "code",
      "source": [
        "@jit\n",
        "def manual_batch_min_max_loop(batched_x):\n",
        "    min_max_result_list = []\n",
        "    for x in batched_x:\n",
        "        min_max_result_list.append(min_max(x))\n",
        "    return jnp.stack(min_max_result_list)\n",
        "\n",
        "\n",
        "print(manual_batch_min_max_loop(batched_x))"
      ],
      "metadata": {
        "colab": {
          "base_uri": "https://localhost:8080/"
        },
        "id": "Km68XfZxMouz",
        "outputId": "80ce041d-6475-4ec7-d22d-f2c267e68956"
      },
      "execution_count": null,
      "outputs": [
        {
          "output_type": "stream",
          "name": "stdout",
          "text": [
            "[[ 0  4]\n",
            " [ 5  9]\n",
            " [10 14]]\n"
          ]
        }
      ]
    },
    {
      "cell_type": "code",
      "source": [
        "# @title Illustration of Vectorized Batching (Run me)\n",
        "from IPython.display import HTML\n",
        "\n",
        "HTML(\n",
        "    '<iframe width=\"560\" height=\"315\" src=\"https://www.assemblyai.com/blog/content/media/2022/02/vectorized.mp4\" frameborder=\"0\" allow=\"accelerometer; autoplay; encrypted-media; gyroscope; picture-in-picture\" allowfullscreen></iframe>'\n",
        ")"
      ],
      "metadata": {
        "colab": {
          "base_uri": "https://localhost:8080/",
          "height": 337
        },
        "id": "H6PrMXCqGkTk",
        "outputId": "518936d9-474e-4bb0-a457-84ee08f13808"
      },
      "execution_count": null,
      "outputs": [
        {
          "output_type": "execute_result",
          "data": {
            "text/plain": [
              "<IPython.core.display.HTML object>"
            ],
            "text/html": [
              "<iframe width=\"560\" height=\"315\" src=\"https://www.assemblyai.com/blog/content/media/2022/02/vectorized.mp4\" frameborder=\"0\" allow=\"accelerometer; autoplay; encrypted-media; gyroscope; picture-in-picture\" allowfullscreen></iframe>"
            ]
          },
          "metadata": {},
          "execution_count": 72
        }
      ]
    },
    {
      "cell_type": "code",
      "source": [
        "# define our vmap function using our original single vector function\n",
        "@jit\n",
        "def min_max_vmap(batched_x):\n",
        "    return vmap(min_max)(batched_x)\n",
        "\n",
        "\n",
        "# Run it on a single vecor\n",
        "## We add extra dimention in a single vector, shape changes from (5,) to (1,5), which makes the vmapping possible\n",
        "x_with_leading_dim = jax.numpy.expand_dims(x, axis=0)\n",
        "print(f\"Single vector: {min_max_vmap(x_with_leading_dim)}\")\n",
        "\n",
        "# Run it on batch of vectors\n",
        "print(f\"Batch/list of vector:{min_max_vmap(batched_x)}\")"
      ],
      "metadata": {
        "colab": {
          "base_uri": "https://localhost:8080/"
        },
        "id": "1HSjmqspMwvb",
        "outputId": "c2c1ff70-7c52-41de-dcd1-516522c3b92f"
      },
      "execution_count": null,
      "outputs": [
        {
          "output_type": "stream",
          "name": "stdout",
          "text": [
            "Single vector: [[0 4]]\n",
            "Batch/list of vector:[[ 0  4]\n",
            " [ 5  9]\n",
            " [10 14]]\n"
          ]
        }
      ]
    },
    {
      "cell_type": "code",
      "source": [
        "batched_x = np.arange(5000).reshape((50, 100))\n",
        "\n",
        "# Trace the functions with first call\n",
        "manual_batch_min_max_loop(batched_x).block_until_ready()\n",
        "min_max_vmap(batched_x).block_until_ready()\n",
        "\n",
        "min_max_forloop_time = %timeit -o -n 10 manual_batch_min_max_loop(batched_x).block_until_ready()\n",
        "min_max_vmap_time = %timeit -o -n 10 min_max_vmap(batched_x).block_until_ready()\n",
        "\n",
        "print(\n",
        "    f\"Avg Times (lower is better) - Naive Implementation: {np.round(np.mean(min_max_forloop_time.all_runs),5)} Vmapped Function: {np.round(np.mean(min_max_vmap_time.all_runs),5)} \"\n",
        ")"
      ],
      "metadata": {
        "colab": {
          "base_uri": "https://localhost:8080/"
        },
        "id": "G-8HISjaM0lO",
        "outputId": "70d286a3-b7d1-4d0e-e583-ed286f2900ab"
      },
      "execution_count": null,
      "outputs": [
        {
          "output_type": "stream",
          "name": "stdout",
          "text": [
            "53.2 µs ± 5.98 µs per loop (mean ± std. dev. of 7 runs, 10 loops each)\n",
            "The slowest run took 8.07 times longer than the fastest. This could mean that an intermediate result is being cached.\n",
            "30.7 µs ± 37 µs per loop (mean ± std. dev. of 7 runs, 10 loops each)\n",
            "Avg Times (lower is better) - Naive Implementation: 0.00053 Vmapped Function: 0.00031 \n"
          ]
        }
      ]
    },
    {
      "cell_type": "markdown",
      "source": [
        "##Pmap"
      ],
      "metadata": {
        "id": "zedPaunlUCB-"
      }
    },
    {
      "cell_type": "code",
      "source": [
        "# @title Illustration of Sequential Dot Product (Run me)\n",
        "from IPython.display import HTML\n",
        "\n",
        "HTML(\n",
        "    '<iframe width=\"560\" height=\"315\" src=\"https://www.assemblyai.com/blog/content/media/2022/02/not_parallel-2.mp4\" frameborder=\"0\" allow=\"accelerometer; autoplay; encrypted-media; gyroscope; picture-in-picture\" allowfullscreen></iframe>'\n",
        ")"
      ],
      "metadata": {
        "colab": {
          "base_uri": "https://localhost:8080/",
          "height": 337
        },
        "id": "W2KrfzmQM4Dt",
        "outputId": "d118e494-c5dc-47eb-8ce9-f2d66d7164b7"
      },
      "execution_count": null,
      "outputs": [
        {
          "output_type": "execute_result",
          "data": {
            "text/plain": [
              "<IPython.core.display.HTML object>"
            ],
            "text/html": [
              "<iframe width=\"560\" height=\"315\" src=\"https://www.assemblyai.com/blog/content/media/2022/02/not_parallel-2.mp4\" frameborder=\"0\" allow=\"accelerometer; autoplay; encrypted-media; gyroscope; picture-in-picture\" allowfullscreen></iframe>"
            ]
          },
          "metadata": {},
          "execution_count": 75
        }
      ]
    },
    {
      "cell_type": "code",
      "source": [
        "# Let's generate a batch of size 8, each with a matrix of size (500, 600)\n",
        "\n",
        "# Let create 8 keys, 1 for each batch\n",
        "keys = jax.random.split(jax.random.PRNGKey(0), 8)\n",
        "\n",
        "# Let create our batches\n",
        "mats = jnp.stack([jax.random.normal(key, (500, 600)) for key in keys])\n",
        "\n",
        "\n",
        "def dot_product_sequential():\n",
        "    @jit\n",
        "    def avg_dot_prod(mats):\n",
        "        result = []\n",
        "        # Loop through batch and compute dp\n",
        "        for mat in mats:\n",
        "            # dot product between the a mat and mat.T (transposed version)\n",
        "            result.append(jnp.dot(mat, mat.T))\n",
        "        return jnp.stack(result)\n",
        "\n",
        "    avg_dot_prod(mats).block_until_ready()\n",
        "\n",
        "\n",
        "run_sequential = %timeit -o -n 5 dot_product_sequential()"
      ],
      "metadata": {
        "colab": {
          "base_uri": "https://localhost:8080/"
        },
        "id": "-6R3OfPgUDL0",
        "outputId": "279f7c4b-b2d7-47e1-9531-ce5f860ad5ca"
      },
      "execution_count": null,
      "outputs": [
        {
          "output_type": "stream",
          "name": "stdout",
          "text": [
            "266 ms ± 32.4 ms per loop (mean ± std. dev. of 7 runs, 5 loops each)\n"
          ]
        }
      ]
    },
    {
      "cell_type": "code",
      "source": [
        "# @title Illustration of Parallel Dot Product (Run me)\n",
        "HTML(\n",
        "    '<iframe width=\"560\" height=\"315\" src=\"https://www.assemblyai.com/blog/content/media/2022/02/parallelized.mp4\" frameborder=\"0\" allow=\"accelerometer; autoplay; encrypted-media; gyroscope; picture-in-picture\" allowfullscreen></iframe>'\n",
        ")"
      ],
      "metadata": {
        "colab": {
          "base_uri": "https://localhost:8080/",
          "height": 337
        },
        "id": "fz35stVsFbQT",
        "outputId": "1872135c-da86-4d52-c50f-f457a1142838"
      },
      "execution_count": null,
      "outputs": [
        {
          "output_type": "execute_result",
          "data": {
            "text/plain": [
              "<IPython.core.display.HTML object>"
            ],
            "text/html": [
              "<iframe width=\"560\" height=\"315\" src=\"https://www.assemblyai.com/blog/content/media/2022/02/parallelized.mp4\" frameborder=\"0\" allow=\"accelerometer; autoplay; encrypted-media; gyroscope; picture-in-picture\" allowfullscreen></iframe>"
            ]
          },
          "metadata": {},
          "execution_count": 77
        }
      ]
    },
    {
      "cell_type": "code",
      "source": [
        "# Let create 8 keys, 1 for each batch\n",
        "keys = jax.random.split(jax.random.PRNGKey(0), 8)\n",
        "\n",
        "# Each replicated pmapped function get a different key\n",
        "mats = pmap(lambda key: jax.random.normal(key, (500, 600)))(keys)"
      ],
      "metadata": {
        "id": "MQ6oXHVxUSrt"
      },
      "execution_count": null,
      "outputs": []
    },
    {
      "cell_type": "code",
      "source": [
        "print(mats.shape)"
      ],
      "metadata": {
        "colab": {
          "base_uri": "https://localhost:8080/"
        },
        "id": "6aaqlSKCUZ70",
        "outputId": "7fdb0bec-9721-4c40-f957-dfd38998bb54"
      },
      "execution_count": null,
      "outputs": [
        {
          "output_type": "stream",
          "name": "stdout",
          "text": [
            "(8, 500, 600)\n"
          ]
        }
      ]
    },
    {
      "cell_type": "code",
      "source": [
        "print(type(mats))"
      ],
      "metadata": {
        "colab": {
          "base_uri": "https://localhost:8080/"
        },
        "id": "tEVj-2cEUzRu",
        "outputId": "358b0cad-ee9a-4293-83d7-e9d2030e0259"
      },
      "execution_count": null,
      "outputs": [
        {
          "output_type": "stream",
          "name": "stdout",
          "text": [
            "<class 'jaxlib.xla_extension.ArrayImpl'>\n"
          ]
        }
      ]
    },
    {
      "cell_type": "code",
      "source": [
        "def dot_product_parallel():\n",
        "\n",
        "    # Run a local matmul on each device in parallel (no data transfer)\n",
        "    result = pmap(lambda x: jnp.dot(x, x.T))(\n",
        "        mats\n",
        "    ).block_until_ready()  # result.shape is (8, 5000, 5000)\n",
        "\n",
        "\n",
        "run_parallel = %timeit -o -n  5 dot_product_parallel()"
      ],
      "metadata": {
        "colab": {
          "base_uri": "https://localhost:8080/"
        },
        "id": "LF0Ms0kTU0f2",
        "outputId": "90060d9a-c89b-4c1b-acc6-4e2aa49ca0af"
      },
      "execution_count": null,
      "outputs": [
        {
          "output_type": "stream",
          "name": "stdout",
          "text": [
            "66 ms ± 2.53 ms per loop (mean ± std. dev. of 7 runs, 5 loops each)\n"
          ]
        }
      ]
    },
    {
      "cell_type": "code",
      "source": [
        "# @title Let's plot the performance difference (Run Cell)\n",
        "\n",
        "jax_parallel_time = np.mean(run_parallel.all_runs)\n",
        "jax_seq_time = np.mean(run_sequential.all_runs)\n",
        "\n",
        "\n",
        "data = {\"JAX (seq)\": jax_seq_time, \"JAX (parallel - pmap)\": jax_parallel_time}\n",
        "\n",
        "plot_performance(data, title=\"Average time taken for Seq vs Parallel Dot Product\")"
      ],
      "metadata": {
        "colab": {
          "base_uri": "https://localhost:8080/",
          "height": 489
        },
        "id": "clQo4mAOWhHP",
        "outputId": "68acee84-6145-4032-ae17-3e1e934c8842"
      },
      "execution_count": null,
      "outputs": [
        {
          "output_type": "display_data",
          "data": {
            "text/plain": [
              "<Figure size 640x480 with 1 Axes>"
            ],
            "image/png": "[encoded data removed]"
          },
          "metadata": {}
        },
        {
          "output_type": "stream",
          "name": "stdout",
          "text": [
            "JAX (parallel - pmap) was 4.04 times faster than JAX (seq) !!!\n"
          ]
        }
      ]
    },
    {
      "cell_type": "markdown",
      "source": [
        "# 📈 Model Training\n",
        "\n",
        "So far we have only used core JAX for our development. This can be tedious, especially when dealing with larger models and when using more complicated optimization methods.\n",
        "\n",
        "Luckily, JAX has higher-level neural network libraries such as Haiku, which make building models more convenient, and libraries like Optax, that make gradient processing and optimization more convenient. As well as that, we can easily use other frameworks, such as TensorFlow, to handle things like dataloaders. \n",
        "\n",
        "In this section, we will briefly go through how to training a simple linear regression model using [Haiku](https://github.com/deepmind/dm-haiku), [Optax](https://github.com/deepmind/optax) and [TensorFlow Datasets](https://www.tensorflow.org/api_docs/python/tf/data/Dataset)."
      ],
      "metadata": {
        "id": "kkdWuxuETlbE"
      }
    },
    {
      "cell_type": "code",
      "source": [
        "%%capture\n",
        "# @title Install Haiku and Optax. (Run Cell)\n",
        "!pip install -U dm-haiku\n",
        "!pip install -U optax\n",
        "# For plotting.\n",
        "!pip install livelossplot"
      ],
      "metadata": {
        "id": "b10HShWdcTKw"
      },
      "execution_count": 89,
      "outputs": []
    },
    {
      "cell_type": "code",
      "source": [
        "from typing import NamedTuple, Tuple\n",
        "import haiku as hk\n",
        "import jax\n",
        "from jax import numpy as jnp\n",
        "import tensorflow as tf\n",
        "import numpy as np\n",
        "import optax\n",
        "import functools"
      ],
      "metadata": {
        "id": "q50HNKJwrgV4"
      },
      "execution_count": 131,
      "outputs": []
    },
    {
      "cell_type": "code",
      "source": [
        "# @title Build our Dataset with TensorFlow Dataset \n",
        "\n",
        "DatasetIterator = tf.data.Iterator[Tuple[np.ndarray, np.ndarray]]\n",
        "\n",
        "def make_dataset(size: int = 128, batch_size: int = 32, true_w: int = 2,\n",
        "                 true_b: int = -1, noise: float = 0.5) -> DatasetIterator:\n",
        "\n",
        "    \n",
        "    # Generate true data from y = w*x + b + noise\n",
        "    xs = np.random.normal(size=(size, 1))\n",
        "    noise = 0.5 * np.random.normal(size=(size, 1))\n",
        "    ys = xs * true_w + true_b + noise\n",
        "\n",
        "    # Create a tensorflow dataset\n",
        "    data = tf.data.Dataset.from_tensor_slices((xs, ys))\n",
        "    data = data.batch(batch_size) \n",
        "    data = data.repeat() # enable repeating for multiple epochs\n",
        "\n",
        "    # Convert tf.Dataset to NumPy iterator, for better compatibility with JAX\n",
        "    dataset =  iter(data.as_numpy_iterator())\n",
        "\n",
        "    return dataset"
      ],
      "metadata": {
        "id": "Y6pfXJ5GrG9I"
      },
      "execution_count": 132,
      "outputs": []
    },
    {
      "cell_type": "code",
      "source": [
        "# @title Data Parallel Learning\n",
        "class TrainingState(NamedTuple):\n",
        "    \"\"\"Container for the training state.\"\"\"\n",
        "    params: hk.Params\n",
        "    opt_state: optax.OptState\n",
        "    step: jnp.DeviceArray\n",
        "\n",
        "def model_fn(x: jnp.ndarray) -> jnp.ndarray:\n",
        "  net = hk.Sequential([\n",
        "    hk.Linear(output_size=1, name='linear')\n",
        "  ])\n",
        "  return net(x)\n",
        "\n",
        "# Transforms the model function into a pair of pure functions using Haiku's init and apply functions.\n",
        "model = hk.without_apply_rng(hk.transform(model_fn))\n",
        "\n",
        "def loss_fn(params: hk.Params, xs: jnp.ndarray, ys: jnp.ndarray) -> jnp.ndarray:\n",
        "  \"\"\"Computes the least squares error of the model's \n",
        "  predictions on x against y.\n",
        "  \"\"\"\n",
        "  pred = model.apply(params, xs)\n",
        "  return jnp.mean((pred - ys) ** 2)\n",
        "\n",
        "@functools.partial(jax.pmap, axis_name='num_devices')\n",
        "def update(state: TrainingState, \n",
        "           xs: jnp.ndarray, \n",
        "           ys: jnp.ndarray) -> tuple[TrainingState, jnp.ndarray]:\n",
        "  \"\"\"Performs one SGD update step on params using the given data.\"\"\"\n",
        "\n",
        "  loss, grads = jax.value_and_grad(loss_fn)(state.params, xs, ys)\n",
        "\n",
        "  # Combine the gradient across all devices (by taking their mean).\n",
        "  grads = jax.lax.pmean(grads, axis_name='num_devices')\n",
        "\n",
        "  # Also combine the loss. Unnecessary for the update, but useful for logging.\n",
        "  loss = jax.lax.pmean(loss, axis_name='num_devices')\n",
        "\n",
        "  # Use optax to update the gradients.\n",
        "  updates, new_opt_state = optimizer.update(grads, state.opt_state)\n",
        "  new_params = optax.apply_updates(state.params, updates)\n",
        "\n",
        "  return TrainingState(new_params, new_opt_state, state.step + 1), loss\n"
      ],
      "metadata": {
        "id": "t8Wd99CureND"
      },
      "execution_count": 143,
      "outputs": []
    },
    {
      "cell_type": "code",
      "source": [
        "# @title State Initialization\n",
        "\n",
        "# Initialise parameters and replicate across devices.\n",
        "init_params = model.init(jax.random.PRNGKey(123), next(data_iter)[0])\n",
        "n_devices = jax.local_device_count()\n",
        "devices = jax.local_devices()\n",
        "\n",
        "# Initialize the optimizer and its state.\n",
        "optimizer = optax.sgd(0.005)\n",
        "opt_state = optimizer.init(init_params)\n",
        "\n",
        "# Initialize training state\n",
        "state = TrainingState(init_params, opt_state, jnp.array(0))\n",
        "state = jax.device_put_sharded([state] * len(devices), devices)"
      ],
      "metadata": {
        "id": "bmhFujp9rppb"
      },
      "execution_count": 144,
      "outputs": []
    },
    {
      "cell_type": "code",
      "source": [
        "# @title Test out our untrained model\n",
        "import matplotlib.pyplot as plt\n",
        "\n",
        "# remember, our params are replicated across all devices, so we want to just\n",
        "# take params from one of them.\n",
        "params = jax.device_get(jax.tree_map(lambda x: x[0], state.params))\n",
        "\n",
        "plt.scatter(xs, ys)\n",
        "plt.plot(xs, params['linear']['w'] * xs + params['linear']['b'], c='red', label='Model Prediction')\n",
        "plt.legend()\n",
        "plt.show()"
      ],
      "metadata": {
        "colab": {
          "base_uri": "https://localhost:8080/",
          "height": 430
        },
        "id": "XcPgR1KusXoG",
        "outputId": "d896fe1a-46f6-44d4-a5b3-60dd578ebed5"
      },
      "execution_count": 145,
      "outputs": [
        {
          "output_type": "display_data",
          "data": {
            "text/plain": [
              "<Figure size 640x480 with 1 Axes>"
            ],
            "image/png": "[encoded data removed]"
          },
          "metadata": {}
        }
      ]
    },
    {
      "cell_type": "code",
      "source": [
        "# @title Training Loop\n",
        "def split(data: np.ndarray, n_devices: int) -> np.ndarray:\n",
        "  \"\"\"Splits the first axis of `data` evenly across the number of devices.\"\"\"\n",
        "  return data.reshape(n_devices, data.shape[0] // n_devices, *data.shape[1:])\n",
        "\n",
        "# Actual training loop.\n",
        "for i in range(1000):\n",
        "    # Fetch next batch\n",
        "    xs, ys = next(data_iter)\n",
        "\n",
        "    # Reshape xs and ys for the pmapped `update()`.\n",
        "    x_split = split(xs, n_devices)\n",
        "    y_split = split(ys, n_devices)\n",
        "\n",
        "    state, loss = update(state, x_split, y_split)\n",
        "\n",
        "    if i % 100 == 0:\n",
        "        # Note that loss is actually an array of shape [num_devices], with identical\n",
        "        # entries, because each device returns its copy of the loss.\n",
        "        # So, we take the first element to print it.\n",
        "        print(f\"Step {i}, loss: {loss[0]:.3f}\")"
      ],
      "metadata": {
        "colab": {
          "base_uri": "https://localhost:8080/"
        },
        "id": "j2TmoRCvr7zE",
        "outputId": "f5c3eb24-1f72-4429-d19b-05eb95b24024"
      },
      "execution_count": 149,
      "outputs": [
        {
          "output_type": "stream",
          "name": "stdout",
          "text": [
            "Step 0, loss: 0.192\n",
            "Step 100, loss: 0.192\n",
            "Step 200, loss: 0.192\n",
            "Step 300, loss: 0.192\n",
            "Step 400, loss: 0.192\n",
            "Step 500, loss: 0.192\n",
            "Step 600, loss: 0.192\n",
            "Step 700, loss: 0.192\n",
            "Step 800, loss: 0.192\n",
            "Step 900, loss: 0.192\n"
          ]
        }
      ]
    },
    {
      "cell_type": "code",
      "source": [
        "# @title Evlauate our trained model\n",
        "\n",
        "# Like the loss, the leaves of params have an extra leading dimension,\n",
        "# so we take the params from the first device.\n",
        "params = jax.device_get(jax.tree_map(lambda x: x[0], state.params))\n",
        "\n",
        "# Printing the trained model's parameters\n",
        "print(\"Trained model's parameters:\", params)\n",
        "\n",
        "plt.scatter(xs, ys)\n",
        "plt.plot(xs, params['linear']['w'] * xs + params['linear']['b'], c='red', label='Model Prediction')\n",
        "plt.legend()\n",
        "plt.show()"
      ],
      "metadata": {
        "colab": {
          "base_uri": "https://localhost:8080/",
          "height": 447
        },
        "id": "bIhWkJJDed35",
        "outputId": "28d84b8f-95f3-4155-f147-7814baca9d0b"
      },
      "execution_count": 150,
      "outputs": [
        {
          "output_type": "stream",
          "name": "stdout",
          "text": [
            "Trained model's parameters: {'linear': {'b': array([-0.9940425], dtype=float32), 'w': array([[1.967604]], dtype=float32)}}\n"
          ]
        },
        {
          "output_type": "display_data",
          "data": {
            "text/plain": [
              "<Figure size 640x480 with 1 Axes>"
            ],
            "image/png": "[encoded data removed]"
          },
          "metadata": {}
        }
      ]
    },
    {
      "cell_type": "markdown",
      "source": [
        "# 🔢 Coding Challenge! \n",
        "\n",
        "Now that you have gone through all the key aspects of building a JAX ML model try and test yourself by building out a custom JAX to train on the MNIST dataset. \n",
        "\n",
        "If you get stuck, refer back to the Linear Regression example above or check out some of the Further Reading in the section below. "
      ],
      "metadata": {
        "id": "Un0kkCZ0tEzK"
      }
    },
    {
      "cell_type": "code",
      "source": [
        "from typing import Iterator, NamedTuple\n",
        "\n",
        "from absl import app\n",
        "import haiku as hk\n",
        "import jax\n",
        "import jax.numpy as jnp\n",
        "import numpy as np\n",
        "import optax\n",
        "import tensorflow_datasets as tfds\n",
        "\n",
        "NUM_CLASSES = 10  # MNIST has 10 classes (hand-written digits).\n",
        "\n",
        "class Batch(NamedTuple):\n",
        "    image: np.ndarray  # [B, H, W, 1]\n",
        "    label: np.ndarray  # [B]\n",
        "\n",
        "class TrainingState(NamedTuple):\n",
        "  params: hk.Params\n",
        "  opt_state: optax.OptState\n",
        "\n",
        "# MNIST Dataset\n",
        "def load_dataset(\n",
        "    split: str,\n",
        "    *,\n",
        "    shuffle: bool,\n",
        "    batch_size: int,\n",
        "):\n",
        "    \"\"\"Loads the MNIST dataset into a handy TensorFlow Dataset.\"\"\"\n",
        "    ds, ds_info = tfds.load(\"mnist:3.*.*\", split=split, with_info=True)\n",
        "    ds.cache()\n",
        "    if shuffle:\n",
        "        ds = ds.shuffle(ds_info.splits[split].num_examples, seed=0)\n",
        "    ds = ds.repeat()\n",
        "    ds = ds.batch(batch_size)\n",
        "    ds = ds.map(lambda x: Batch(**x))\n",
        "    return iter(tfds.as_numpy(ds))\n",
        "\n",
        "\n",
        "# Model\n",
        "def net_fn(images: jax.Array) -> jax.Array:\n",
        "    \"\"\"Create a simple network that is able to train on the MNIST dataset.\"\"\"\n",
        "    # TODO\n",
        "\n",
        "network = # TODO\n",
        "optimiser = # TODO\n",
        "\n",
        "def loss_fn(params: hk.Params, batch: Batch) -> jax.Array:\n",
        "    \"\"\"Cross-entropy classification loss, regularised by L2 weight decay.\"\"\"\n",
        "    # TODO\n",
        "\n",
        "@jax.jit\n",
        "def update(state: TrainingState, batch: Batch) -> TrainingState:\n",
        "    \"\"\"Learning rule (stochastic gradient descent).\"\"\"\n",
        "    # TODO\n",
        "\n",
        "# Make datasets.\n",
        "train_dataset = load_dataset(\"train\", shuffle=True, batch_size=1_000)\n",
        "\n",
        "# Initialise network and optimiser; note we draw an input to get shapes.\n",
        "state = #TODO\n",
        "\n",
        "# Training & evaluation loop.\n",
        "for step in range(2000):\n",
        "\n",
        "    # Do SGD on a batch of training examples.\n",
        "    state, loss = update(state, next(train_dataset))\n",
        "\n",
        "    if step % 100 == 0:\n",
        "        print(f\"Step {step}, loss: {loss:.3f}\")"
      ],
      "metadata": {
        "id": "E80tdy2vtcSl",
        "colab": {
          "base_uri": "https://localhost:8080/",
          "height": 651
        },
        "outputId": "925a33c5-9556-484d-87b5-031abf4dd59f"
      },
      "execution_count": 155,
      "outputs": [
        {
          "output_type": "stream",
          "name": "stdout",
          "text": [
            "Step 999, loss: 2.324\n",
            "Step 999, loss: 0.288\n",
            "Step 999, loss: 0.160\n",
            "Step 999, loss: 0.137\n",
            "Step 999, loss: 0.132\n",
            "Step 999, loss: 0.074\n",
            "Step 999, loss: 0.079\n",
            "Step 999, loss: 0.058\n",
            "Step 999, loss: 0.065\n",
            "Step 999, loss: 0.040\n",
            "Step 999, loss: 0.048\n",
            "Step 999, loss: 0.050\n",
            "Step 999, loss: 0.037\n",
            "Step 999, loss: 0.039\n",
            "Step 999, loss: 0.036\n",
            "Step 999, loss: 0.036\n",
            "Step 999, loss: 0.035\n",
            "Step 999, loss: 0.033\n",
            "Step 999, loss: 0.031\n",
            "Step 999, loss: 0.033\n",
            "Step 999, loss: 0.030\n",
            "Step 999, loss: 0.031\n"
          ]
        },
        {
          "output_type": "error",
          "ename": "KeyboardInterrupt",
          "evalue": "ignored",
          "traceback": [
            "\u001b[0;31m---------------------------------------------------------------------------\u001b[0m",
            "\u001b[0;31mKeyboardInterrupt\u001b[0m                         Traceback (most recent call last)",
            "\u001b[0;32m<ipython-input-155-99f36d6bff12>\u001b[0m in \u001b[0;36m<cell line: 88>\u001b[0;34m()\u001b[0m\n\u001b[1;32m     89\u001b[0m \u001b[0;34m\u001b[0m\u001b[0m\n\u001b[1;32m     90\u001b[0m     \u001b[0;31m# Do SGD on a batch of training examples.\u001b[0m\u001b[0;34m\u001b[0m\u001b[0;34m\u001b[0m\u001b[0m\n\u001b[0;32m---> 91\u001b[0;31m     \u001b[0mstate\u001b[0m\u001b[0;34m,\u001b[0m \u001b[0mloss\u001b[0m \u001b[0;34m=\u001b[0m \u001b[0mupdate\u001b[0m\u001b[0;34m(\u001b[0m\u001b[0mstate\u001b[0m\u001b[0;34m,\u001b[0m \u001b[0mnext\u001b[0m\u001b[0;34m(\u001b[0m\u001b[0mtrain_dataset\u001b[0m\u001b[0;34m)\u001b[0m\u001b[0;34m)\u001b[0m\u001b[0;34m\u001b[0m\u001b[0;34m\u001b[0m\u001b[0m\n\u001b[0m\u001b[1;32m     92\u001b[0m \u001b[0;34m\u001b[0m\u001b[0m\n\u001b[1;32m     93\u001b[0m     \u001b[0;32mif\u001b[0m \u001b[0mstep\u001b[0m \u001b[0;34m%\u001b[0m \u001b[0;36m100\u001b[0m \u001b[0;34m==\u001b[0m \u001b[0;36m0\u001b[0m\u001b[0;34m:\u001b[0m\u001b[0;34m\u001b[0m\u001b[0;34m\u001b[0m\u001b[0m\n",
            "\u001b[0;32m<string>\u001b[0m in \u001b[0;36m<lambda>\u001b[0;34m(_cls, count, mu, nu)\u001b[0m\n",
            "\u001b[0;31mKeyboardInterrupt\u001b[0m: "
          ]
        }
      ]
    },
    {
      "cell_type": "markdown",
      "source": [
        "# 📚Further Reading\n",
        "\n",
        "This is just a taste of all you can do using JAX. Here are some of our favourite resources for becoming a JAX pro. For a more in depth version of this workshop, make sure to checkout [Intro To ML Using JAX](https://github.com/deep-learning-indaba/indaba-pracs-2022/blob/main/practicals/Introduction_to_ML_using_JAX.ipynb) from Deep Learning Indaba 2022! \n",
        "\n",
        "\n",
        "* [Jax Documentation](https://jax.readthedocs.io/en/latest/)\n",
        "* [Intro To ML Using JAX](https://github.com/deep-learning-indaba/indaba-pracs-2022/blob/main/practicals/Introduction_to_ML_using_JAX.ipynb)\n",
        "* [Awesome Jax: Currated List Of JAX Resources](https://github.com/n2cholas/awesome-jax)\n",
        "* [JAX Zero To Hero](https://www.youtube.com/watch?v=SstuvS-tVc0&list=PLBoQnSflObckOARbMK9Lt98Id0AKcZurq)\n",
        "* [Why You Should (Or Shouldn't) Be Using JAX - Assembly AI](https://www.assemblyai.com/blog/why-you-should-or-shouldnt-be-using-jax-in-2023/#:~:text=If%20most%20of%20your%20work,to%20use%20JAX%20going%20forward.)"
      ],
      "metadata": {
        "id": "-mI2c8DjwS3n"
      }
    },
    {
      "cell_type": "code",
      "source": [],
      "metadata": {
        "id": "LhiZWUchoH9G"
      },
      "execution_count": null,
      "outputs": []
    }
  ]
}