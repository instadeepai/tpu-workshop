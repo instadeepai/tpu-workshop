{
  "nbformat": 4,
  "nbformat_minor": 0,
  "metadata": {
    "colab": {
      "provenance": [],
      "toc_visible": true,
      "gpuType": "T4"
    },
    "kernelspec": {
      "name": "python3",
      "display_name": "Python 3"
    },
    "language_info": {
      "name": "python"
    }
  },
  "cells": [
    {
      "cell_type": "markdown",
      "source": [
        "# Intro To JAX\n",
        "\n",
        "**Outline:** \n",
        "\n",
        ">[Setup](#scrollTo=uTgyaSXdXTV2&line=1&uniqifier=1)\n",
        "\n",
        ">[What Is JAX](#scrollTo=JGkHAequ08zr&line=1&uniqifier=1)\n",
        "\n",
        ">[JAX Basics](#scrollTo=Q8dT4n8DebuP&line=1&uniqifier=1)\n",
        "\n",
        ">>[Accelerated Numpy](#scrollTo=4ZM6E8Zl01Wf&line=1&uniqifier=1)\n",
        "\n",
        ">>[Immutability](#scrollTo=WM2fgptY1tYg&line=1&uniqifier=1)\n",
        "\n",
        ">>[Randomness](#scrollTo=VEwV_x1iAJ7_&line=1&uniqifier=1)\n",
        "\n",
        ">>[Agnostic Backend](#scrollTo=BWdqwGjzA-ci&line=1&uniqifier=1)\n",
        "\n",
        ">[JAX Transformations](#scrollTo=6qPm35e3eh2U&line=1&uniqifier=1)\n",
        "\n",
        ">>[Jit](#scrollTo=BWdqwGjzA-ci&line=1&uniqifier=1)\n",
        "\n",
        ">>[Grad](#scrollTo=BWdqwGjzA-ci&line=1&uniqifier=1)\n",
        "\n",
        ">>[Vmap](#scrollTo=BWdqwGjzA-ci&line=1&uniqifier=1)\n",
        "\n",
        ">>[Pmap](#scrollTo=BWdqwGjzA-ci&line=1&uniqifier=1)\n",
        "\n",
        ">[Demo](#)\n",
        ">> linear regression haiku model, workflow\n",
        "\n",
        ">[MNIST](#)\n",
        "\n",
        ">[Further Reading?](#)\n"
      ],
      "metadata": {
        "id": "F6_OPQLK7YKn"
      }
    },
    {
      "cell_type": "markdown",
      "source": [
        "# Setup "
      ],
      "metadata": {
        "id": "uTgyaSXdXTV2"
      }
    },
    {
      "cell_type": "code",
      "execution_count": 1,
      "metadata": {
        "colab": {
          "base_uri": "https://localhost:8080/"
        },
        "id": "NTpDljzzsjtU",
        "outputId": "08d15fc2-a2bb-46fd-8415-0797da4df582"
      },
      "outputs": [
        {
          "output_type": "stream",
          "name": "stdout",
          "text": [
            "Only CPU accelerator is connected.\n"
          ]
        }
      ],
      "source": [
        "## Install and import anything required. Capture hides the output from the cell.\n",
        "\n",
        "import subprocess\n",
        "import os\n",
        "\n",
        "# Based on https://stackoverflow.com/questions/67504079/how-to-check-if-an-nvidia-gpu-is-available-on-my-system\n",
        "try:\n",
        "    subprocess.check_output('nvidia-smi')\n",
        "    print(\"a GPU is connected.\")\n",
        "except Exception: \n",
        "    # TPU or CPU\n",
        "    if \"COLAB_TPU_ADDR\" in os.environ and os.environ[\"COLAB_TPU_ADDR\"]:\n",
        "      print(\"A TPU is connected.\")\n",
        "      import jax.tools.colab_tpu\n",
        "      jax.tools.colab_tpu.setup_tpu()\n",
        "    else:\n",
        "      print(\"Only CPU accelerator is connected.\")\n",
        "      # x8 cpu devices - number of (emulated) host devices\n",
        "      os.environ[\"XLA_FLAGS\"] = \"--xla_force_host_platform_device_count=8\"\n",
        "import jax\n",
        "import jax.numpy as jnp\n",
        "from jax import grad, jit, vmap, pmap\n",
        "\n",
        "import matplotlib.pyplot as plt\n",
        "import numpy as np"
      ]
    },
    {
      "cell_type": "code",
      "source": [
        "# @title Helper Functions. (Run Cell)\n",
        "import copy\n",
        "from typing import Dict\n",
        "\n",
        "\n",
        "def plot_performance(data: Dict, title: str):\n",
        "    runs = list(data.keys())\n",
        "    time = list(data.values())\n",
        "\n",
        "    # creating the bar plot\n",
        "    plt.bar(runs, time, width=0.35)\n",
        "\n",
        "    plt.xlabel(\"Implementation\")\n",
        "    plt.ylabel(\"Average time taken (in s)\")\n",
        "    plt.title(title)\n",
        "    plt.show()\n",
        "\n",
        "    best_perf_key = min(data, key=data.get)\n",
        "    all_runs_key = copy.copy(runs)\n",
        "\n",
        "    # all_runs_key_except_best\n",
        "    all_runs_key.remove(best_perf_key)\n",
        "\n",
        "    for k in all_runs_key:\n",
        "        print(\n",
        "            f\"{best_perf_key} was {round((data[k]/data[best_perf_key]),2)} times faster than {k} !!!\"\n",
        "        )"
      ],
      "metadata": {
        "id": "Ur9ZxjjVs8HN",
        "cellView": "form"
      },
      "execution_count": 2,
      "outputs": []
    },
    {
      "cell_type": "code",
      "source": [
        "# @title Check the device you are using (Run Cell)\n",
        "print(f\"Num devices: {jax.device_count()}\")\n",
        "print(f\" Devices: {jax.devices()}\")"
      ],
      "metadata": {
        "id": "LdWajwL4s81U",
        "outputId": "88bc737d-6cc8-4762-991d-b4293082f9af",
        "colab": {
          "base_uri": "https://localhost:8080/"
        }
      },
      "execution_count": 3,
      "outputs": [
        {
          "output_type": "stream",
          "name": "stderr",
          "text": [
            "WARNING:jax._src.xla_bridge:No GPU/TPU found, falling back to CPU. (Set TF_CPP_MIN_LOG_LEVEL=0 and rerun for more info.)\n"
          ]
        },
        {
          "output_type": "stream",
          "name": "stdout",
          "text": [
            "Num devices: 8\n",
            " Devices: [CpuDevice(id=0), CpuDevice(id=1), CpuDevice(id=2), CpuDevice(id=3), CpuDevice(id=4), CpuDevice(id=5), CpuDevice(id=6), CpuDevice(id=7)]\n"
          ]
        }
      ]
    },
    {
      "cell_type": "markdown",
      "source": [
        "# What is JAX? \n",
        "\n",
        "JAX is a **high performance**, numerical computing library which focuses on generating **optimized code**, as **simply** as possible.\n",
        "\n",
        "JAX combines the best of NumPy, Autograd, and XLA (Accelerated Linear Algebra), enabling users to express complex algorithms while maintaining high performance. \n",
        "\n",
        "JAX focuses on providing minimal, yet powerful, low level operations and transformations that empower user to easily develop and scale scientific based experiments. \n",
        "\n",
        "To top it off, JAX automatically scales to all major Hardware Accelerators without the need for any code changes.\n"
      ],
      "metadata": {
        "id": "JGkHAequ08zr"
      }
    },
    {
      "cell_type": "markdown",
      "source": [
        "# JAX Basics\n",
        "\n",
        "[TODO]\n",
        "- What you need to know to write your first jax programs"
      ],
      "metadata": {
        "id": "Q8dT4n8DebuP"
      }
    },
    {
      "cell_type": "markdown",
      "source": [
        "## Pure Functions\n",
        "[TODO]\n",
        "- whats a pure function?\n",
        "- no side effects and immutable\n",
        "- reproducable\n",
        "- why? "
      ],
      "metadata": {
        "id": "GkN7CLotpmDJ"
      }
    },
    {
      "cell_type": "code",
      "source": [],
      "metadata": {
        "id": "Tqm-ubHkpkwG"
      },
      "execution_count": 3,
      "outputs": []
    },
    {
      "cell_type": "markdown",
      "source": [
        "## Accelerated Numpy \n"
      ],
      "metadata": {
        "id": "4ZM6E8Zl01Wf"
      }
    },
    {
      "cell_type": "code",
      "source": [
        "# 100 linearly spaced numbers from -np.pi to np.pi\n",
        "x = np.linspace(-np.pi, np.pi, 100)\n",
        "\n",
        "# the function, which is y = sin(x) here\n",
        "y = np.sin(x)\n",
        "\n",
        "# plot the functions\n",
        "plt.plot(x, y, \"b\", label=\"y=sin(x)\")\n",
        "\n",
        "plt.legend(loc=\"upper left\")\n",
        "\n",
        "# show the plot\n",
        "plt.show()"
      ],
      "metadata": {
        "id": "dlFEyZshtBlq",
        "colab": {
          "base_uri": "https://localhost:8080/",
          "height": 430
        },
        "outputId": "b4d73155-e557-4e0b-8e0a-68c4361d8a66"
      },
      "execution_count": 4,
      "outputs": [
        {
          "output_type": "display_data",
          "data": {
            "text/plain": [
              "<Figure size 640x480 with 1 Axes>"
            ],
            "image/png": "[encoded data removed]"
          },
          "metadata": {}
        }
      ]
    },
    {
      "cell_type": "code",
      "source": [
        "# 100 linearly spaced numbers from -jnp.pi to jnp.pi\n",
        "x = jnp.linspace(-jnp.pi, jnp.pi, 100)\n",
        "\n",
        "# the function, which is y = sin(x) here\n",
        "y = jnp.sin(x)\n",
        "\n",
        "# plot the functions\n",
        "plt.plot(x, y, \"b\", label=\"y=sin(x)\")\n",
        "\n",
        "plt.legend(loc=\"upper left\")\n",
        "\n",
        "# show the plot\n",
        "plt.show()"
      ],
      "metadata": {
        "colab": {
          "base_uri": "https://localhost:8080/",
          "height": 430
        },
        "id": "hF_o4i6b0sm1",
        "outputId": "0e9149c8-b421-44d7-ac7a-569bea0dc408"
      },
      "execution_count": 5,
      "outputs": [
        {
          "output_type": "display_data",
          "data": {
            "text/plain": [
              "<Figure size 640x480 with 1 Axes>"
            ],
            "image/png": "[encoded data removed]"
          },
          "metadata": {}
        }
      ]
    },
    {
      "cell_type": "markdown",
      "source": [
        "## Immutability\n",
        "\n",
        "[TODO]\n",
        "- Jax data types"
      ],
      "metadata": {
        "id": "WM2fgptY1tYg"
      }
    },
    {
      "cell_type": "code",
      "source": [
        "# NumPy: mutable arrays\n",
        "x = np.arange(10)\n",
        "x[0] = 10\n",
        "print(x)"
      ],
      "metadata": {
        "colab": {
          "base_uri": "https://localhost:8080/"
        },
        "id": "FiFcgVi81uyY",
        "outputId": "e94baf9b-d28c-4f50-82f5-422791ee51ad"
      },
      "execution_count": 6,
      "outputs": [
        {
          "output_type": "stream",
          "name": "stdout",
          "text": [
            "[10  1  2  3  4  5  6  7  8  9]\n"
          ]
        }
      ]
    },
    {
      "cell_type": "code",
      "source": [
        "# JAX: immutable arrays\n",
        "# Should raise an error.\n",
        "try:\n",
        "    x = jnp.arange(10)\n",
        "    x[0] = 10\n",
        "except Exception as e:\n",
        "    print(\"Exception {}\".format(e))"
      ],
      "metadata": {
        "colab": {
          "base_uri": "https://localhost:8080/"
        },
        "id": "QWv8ZHCb3Uau",
        "outputId": "ad911ea7-5b91-4b8a-dc7b-fd025da4bc77"
      },
      "execution_count": 7,
      "outputs": [
        {
          "output_type": "stream",
          "name": "stdout",
          "text": [
            "Exception '<class 'jaxlib.xla_extension.ArrayImpl'>' object does not support item assignment. JAX arrays are immutable. Instead of ``x[idx] = y``, use ``x = x.at[idx].set(y)`` or another .at[] method: https://jax.readthedocs.io/en/latest/_autosummary/jax.numpy.ndarray.at.html\n"
          ]
        }
      ]
    },
    {
      "cell_type": "code",
      "source": [
        "x = jnp.arange(10)\n",
        "new_x = x.at[0].set(10)\n",
        "print(f\" new_x: {new_x} original x: {x}\")"
      ],
      "metadata": {
        "colab": {
          "base_uri": "https://localhost:8080/"
        },
        "id": "uC4K-mVW3Yqt",
        "outputId": "5dba691d-89d8-4d4f-e321-789ea4af2289"
      },
      "execution_count": 8,
      "outputs": [
        {
          "output_type": "stream",
          "name": "stdout",
          "text": [
            " new_x: [10  1  2  3  4  5  6  7  8  9] original x: [0 1 2 3 4 5 6 7 8 9]\n"
          ]
        }
      ]
    },
    {
      "cell_type": "code",
      "source": [],
      "metadata": {
        "id": "NYqDGUTB321x"
      },
      "execution_count": 8,
      "outputs": []
    },
    {
      "cell_type": "markdown",
      "source": [
        "## Randomness"
      ],
      "metadata": {
        "id": "VEwV_x1iAJ7_"
      }
    },
    {
      "cell_type": "code",
      "source": [
        "# Set random seed\n",
        "np.random.seed(42)\n",
        "prng_state = np.random.get_state()"
      ],
      "metadata": {
        "id": "pZywwz3PALHY"
      },
      "execution_count": 9,
      "outputs": []
    },
    {
      "cell_type": "code",
      "source": [
        "# @title Helper function to compare prng keys (Run Cell)\n",
        "def is_prng_state_the_same(prng_1, prng_2):\n",
        "    \"\"\"Helper function to compare two prng keys.\"\"\"\n",
        "    # concat all elements in prng tuple\n",
        "    list_prng_data_equal = [(a == b) for a, b in zip(prng_1, prng_2)]\n",
        "    # stack all elements together\n",
        "    list_prng_data_equal = np.hstack(list_prng_data_equal)\n",
        "    # check if all elements are the same\n",
        "    is_prng_equal = all(list_prng_data_equal)\n",
        "    return is_prng_equal"
      ],
      "metadata": {
        "id": "TtDyqu5MALiB"
      },
      "execution_count": 10,
      "outputs": []
    },
    {
      "cell_type": "code",
      "source": [
        "print(\n",
        "    f\"sample 1 = {np.random.normal()} Did prng state change: {not is_prng_state_the_same(prng_state,np.random.get_state())}\"\n",
        ")\n",
        "prng_state = np.random.get_state()\n",
        "print(\n",
        "    f\"sample 2 = {np.random.normal()} Did prng state change: {not is_prng_state_the_same(prng_state,np.random.get_state())}\"\n",
        ")\n",
        "prng_state = np.random.get_state()\n",
        "print(\n",
        "    f\"sample 3 = {np.random.normal()} Did prng state change: {not is_prng_state_the_same(prng_state,np.random.get_state())}\"\n",
        ")"
      ],
      "metadata": {
        "colab": {
          "base_uri": "https://localhost:8080/"
        },
        "id": "NTG-aYPLAOSF",
        "outputId": "6446fa52-9ca6-49be-a457-735e526fea79"
      },
      "execution_count": 11,
      "outputs": [
        {
          "output_type": "stream",
          "name": "stdout",
          "text": [
            "sample 1 = 0.4967141530112327 Did prng state change: True\n",
            "sample 2 = -0.13826430117118466 Did prng state change: True\n",
            "sample 3 = 0.6476885381006925 Did prng state change: True\n"
          ]
        }
      ]
    },
    {
      "cell_type": "code",
      "source": [
        "from jax import random\n",
        "\n",
        "key = random.PRNGKey(42)\n",
        "print(f\"sample 1 = {random.normal(key)}\")\n",
        "print(f\"sample 2 = {random.normal(key)}\")\n",
        "print(f\"sample 3 = {random.normal(key)}\")"
      ],
      "metadata": {
        "colab": {
          "base_uri": "https://localhost:8080/"
        },
        "id": "lFihTKTYAQ-x",
        "outputId": "317c23da-20b4-4b1c-c440-8c646be066ff"
      },
      "execution_count": 12,
      "outputs": [
        {
          "output_type": "stream",
          "name": "stdout",
          "text": [
            "sample 1 = -0.1847117692232132\n",
            "sample 2 = -0.1847117692232132\n",
            "sample 3 = -0.1847117692232132\n"
          ]
        }
      ]
    },
    {
      "cell_type": "code",
      "source": [
        "from jax import random\n",
        "\n",
        "key = random.PRNGKey(42)\n",
        "print(f\"sample 1 = {random.normal(key)}\")\n",
        "\n",
        "# We split the key -> new key and subkey\n",
        "new_key, subkey = random.split(key)\n",
        "\n",
        "# We use the subkey immediately and keep the new key for future splits.\n",
        "# It doesn't really matter which key we keep and which one we use immediately.\n",
        "print(f\"sample 2 = {random.normal(subkey)}\")\n",
        "\n",
        "# We split the new key -> new key2 and subkey\n",
        "new_key2, subkey = random.split(new_key)\n",
        "print(f\"sample 3 = {random.normal(subkey)}\")"
      ],
      "metadata": {
        "colab": {
          "base_uri": "https://localhost:8080/"
        },
        "id": "cH7ZeoZfATt3",
        "outputId": "178aa26d-29e1-4f80-a8dd-f5b1b64d0455"
      },
      "execution_count": 13,
      "outputs": [
        {
          "output_type": "stream",
          "name": "stdout",
          "text": [
            "sample 1 = -0.1847117692232132\n",
            "sample 2 = 1.369469404220581\n",
            "sample 3 = -0.19947023689746857\n"
          ]
        }
      ]
    },
    {
      "cell_type": "markdown",
      "source": [
        "##Agnostic Backend"
      ],
      "metadata": {
        "id": "BWdqwGjzA-ci"
      }
    },
    {
      "cell_type": "code",
      "source": [
        "size = 1000\n",
        "x = np.random.normal(size=(size, size))\n",
        "y = np.random.normal(size=(size, size))\n",
        "numpy_time = %timeit -o -n 10 a_np = np.dot(y,x.T)"
      ],
      "metadata": {
        "colab": {
          "base_uri": "https://localhost:8080/"
        },
        "id": "Nv7AW2_cAWb7",
        "outputId": "fad27f6b-c192-4a4e-fede-d8ab0a21989d"
      },
      "execution_count": 14,
      "outputs": [
        {
          "output_type": "stream",
          "name": "stdout",
          "text": [
            "109 ms ± 31.2 ms per loop (mean ± std. dev. of 7 runs, 10 loops each)\n"
          ]
        }
      ]
    },
    {
      "cell_type": "code",
      "source": [
        "size = 1000\n",
        "key1, key2 = jax.random.split(jax.random.PRNGKey(42), num=2)\n",
        "x = jax.random.normal(key1, shape=(size, size))\n",
        "y = jax.random.normal(key2, shape=(size, size))\n",
        "jax_time = %timeit -o -n 10 jnp.dot(y, x.T).block_until_ready()"
      ],
      "metadata": {
        "colab": {
          "base_uri": "https://localhost:8080/"
        },
        "id": "Og1NrXXHBEiP",
        "outputId": "d43f093c-7780-4e11-cc48-5453cb037f79"
      },
      "execution_count": 15,
      "outputs": [
        {
          "output_type": "stream",
          "name": "stdout",
          "text": [
            "79.8 ms ± 22.7 ms per loop (mean ± std. dev. of 7 runs, 10 loops each)\n"
          ]
        }
      ]
    },
    {
      "cell_type": "code",
      "source": [
        "np_average_time = np.mean(numpy_time.all_runs)\n",
        "jax_average_time = np.mean(jax_time.all_runs)\n",
        "data = {\"numpy\": np_average_time, \"jax\": jax_average_time}\n",
        "\n",
        "plot_performance(data, title=\"Average time taken per framework to run dot product\")"
      ],
      "metadata": {
        "colab": {
          "base_uri": "https://localhost:8080/",
          "height": 489
        },
        "id": "LvMcoZfUBHRp",
        "outputId": "f302d6db-6e46-44a0-e35d-11501f675065"
      },
      "execution_count": 16,
      "outputs": [
        {
          "output_type": "display_data",
          "data": {
            "text/plain": [
              "<Figure size 640x480 with 1 Axes>"
            ],
            "image/png": "[encoded data removed]"
          },
          "metadata": {}
        },
        {
          "output_type": "stream",
          "name": "stdout",
          "text": [
            "jax was 1.36 times faster than numpy !!!\n"
          ]
        }
      ]
    },
    {
      "cell_type": "markdown",
      "source": [
        "# JAX Transformations"
      ],
      "metadata": {
        "id": "6qPm35e3eh2U"
      }
    },
    {
      "cell_type": "markdown",
      "source": [
        "##Jit Compiling"
      ],
      "metadata": {
        "id": "T4EW239KJ0sA"
      }
    },
    {
      "cell_type": "code",
      "source": [
        "def relu(x):\n",
        "    return jnp.where(x > 0, x, 0)\n",
        "    # Another option - return jnp.maximum(x,0)"
      ],
      "metadata": {
        "id": "G-hvya5YKG5i"
      },
      "execution_count": 17,
      "outputs": []
    },
    {
      "cell_type": "code",
      "source": [
        "# jit our function\n",
        "relu_jit = jax.jit(relu)\n",
        "\n",
        "# generate random input\n",
        "key = jax.random.PRNGKey(42)\n",
        "num_random_numbers = 1000000\n",
        "x = jax.random.normal(key, (num_random_numbers,))\n",
        "\n",
        "# time normal jit function\n",
        "jax_time = %timeit -o -n 10 relu(x).block_until_ready()\n",
        "\n",
        "# Warm up/Compile - first run for jitted function\n",
        "relu_jit(x).block_until_ready()\n",
        "\n",
        "# time jitted function\n",
        "jax_jit_time = %timeit -o -n 10 relu_jit(x).block_until_ready()\n",
        "\n",
        "# Let's plot the performance difference\n",
        "jax_avg_time = np.mean(jax_time.all_runs)\n",
        "jax_jit_avg_time = np.mean(jax_jit_time.all_runs)\n",
        "data = {\"JAX (no jit)\": jax_avg_time, \"JAX (with jit)\": jax_jit_avg_time}\n",
        "\n",
        "plot_performance(data, title=\"Average time taken for ReLU function\")"
      ],
      "metadata": {
        "colab": {
          "base_uri": "https://localhost:8080/",
          "height": 561
        },
        "id": "Hr3_7L7VBMMU",
        "outputId": "ff91d686-c6a6-4fa7-88a7-6e497015c473"
      },
      "execution_count": 18,
      "outputs": [
        {
          "output_type": "stream",
          "name": "stdout",
          "text": [
            "The slowest run took 15.02 times longer than the fastest. This could mean that an intermediate result is being cached.\n",
            "3.16 ms ± 4.88 ms per loop (mean ± std. dev. of 7 runs, 10 loops each)\n",
            "582 µs ± 93.7 µs per loop (mean ± std. dev. of 7 runs, 10 loops each)\n"
          ]
        },
        {
          "output_type": "display_data",
          "data": {
            "text/plain": [
              "<Figure size 640x480 with 1 Axes>"
            ],
            "image/png": "[encoded data removed]"
          },
          "metadata": {}
        },
        {
          "output_type": "stream",
          "name": "stdout",
          "text": [
            "JAX (with jit) was 5.42 times faster than JAX (no jit) !!!\n"
          ]
        }
      ]
    },
    {
      "cell_type": "markdown",
      "source": [
        "##Grad"
      ],
      "metadata": {
        "id": "zpfw_MmJKt1-"
      }
    },
    {
      "cell_type": "code",
      "source": [
        "f = lambda x: 6 * x**4 - 9 * x + 4"
      ],
      "metadata": {
        "id": "dG3sfi0xKMaM"
      },
      "execution_count": 19,
      "outputs": []
    },
    {
      "cell_type": "code",
      "source": [
        "dfdx = grad(f)\n",
        "dfdx_3 = dfdx(3.0)\n",
        "\n",
        "print(\"Grad of f(3): \", dfdx_3)"
      ],
      "metadata": {
        "colab": {
          "base_uri": "https://localhost:8080/"
        },
        "id": "Rz7NQyu8KvEE",
        "outputId": "8790a757-930b-4338-c3c4-42b440846603"
      },
      "execution_count": 20,
      "outputs": [
        {
          "output_type": "stream",
          "name": "stdout",
          "text": [
            "Grad of f(3):  639.0\n"
          ]
        }
      ]
    },
    {
      "cell_type": "code",
      "source": [
        "d3dx = grad(grad(grad(f)))\n",
        "print(\"3rd order gradients of f(3): \", d3dx(3.0))"
      ],
      "metadata": {
        "colab": {
          "base_uri": "https://localhost:8080/"
        },
        "id": "WJ_-vz7kK3zm",
        "outputId": "25c6e4c9-fe43-4bb3-df1d-d17296b21c20"
      },
      "execution_count": 21,
      "outputs": [
        {
          "output_type": "stream",
          "name": "stdout",
          "text": [
            "3rd order gradients of f(3):  432.0\n"
          ]
        }
      ]
    },
    {
      "cell_type": "markdown",
      "source": [
        "##Vmap"
      ],
      "metadata": {
        "id": "IM4ZBJ_QMgtE"
      }
    },
    {
      "cell_type": "code",
      "source": [
        "def min_max(x):\n",
        "    return jnp.array([jnp.min(x), jnp.max(x)])"
      ],
      "metadata": {
        "id": "jr68oIiTMEwy"
      },
      "execution_count": 22,
      "outputs": []
    },
    {
      "cell_type": "code",
      "source": [
        "x = jnp.arange(5)\n",
        "min_max(x)"
      ],
      "metadata": {
        "colab": {
          "base_uri": "https://localhost:8080/"
        },
        "id": "X8EsuPxFMkvk",
        "outputId": "f6b4c110-20c1-436f-b400-e5c3d47fe447"
      },
      "execution_count": 23,
      "outputs": [
        {
          "output_type": "execute_result",
          "data": {
            "text/plain": [
              "Array([0, 4], dtype=int32)"
            ]
          },
          "metadata": {},
          "execution_count": 23
        }
      ]
    },
    {
      "cell_type": "code",
      "source": [
        "batch_size = 3\n",
        "batched_x = np.arange(15).reshape((batch_size, -1))\n",
        "print(batched_x)"
      ],
      "metadata": {
        "colab": {
          "base_uri": "https://localhost:8080/"
        },
        "id": "aW56ptsDMmzF",
        "outputId": "bfc4068b-d315-4973-97f1-dac2617cc1ca"
      },
      "execution_count": 24,
      "outputs": [
        {
          "output_type": "stream",
          "name": "stdout",
          "text": [
            "[[ 0  1  2  3  4]\n",
            " [ 5  6  7  8  9]\n",
            " [10 11 12 13 14]]\n"
          ]
        }
      ]
    },
    {
      "cell_type": "code",
      "source": [
        "@jit\n",
        "def manual_batch_min_max_loop(batched_x):\n",
        "    min_max_result_list = []\n",
        "    for x in batched_x:\n",
        "        min_max_result_list.append(min_max(x))\n",
        "    return jnp.stack(min_max_result_list)\n",
        "\n",
        "\n",
        "print(manual_batch_min_max_loop(batched_x))"
      ],
      "metadata": {
        "colab": {
          "base_uri": "https://localhost:8080/"
        },
        "id": "Km68XfZxMouz",
        "outputId": "7a9f1bcd-042f-41ff-8c7a-369f1f644668"
      },
      "execution_count": 25,
      "outputs": [
        {
          "output_type": "stream",
          "name": "stdout",
          "text": [
            "[[ 0  4]\n",
            " [ 5  9]\n",
            " [10 14]]\n"
          ]
        }
      ]
    },
    {
      "cell_type": "code",
      "source": [
        "# define our vmap function using our original single vector function\n",
        "@jit\n",
        "def min_max_vmap(batched_x):\n",
        "    return vmap(min_max)(batched_x)\n",
        "\n",
        "\n",
        "# Run it on a single vecor\n",
        "## We add extra dimention in a single vector, shape changes from (5,) to (1,5), which makes the vmapping possible\n",
        "x_with_leading_dim = jax.numpy.expand_dims(x, axis=0)\n",
        "print(f\"Single vector: {min_max_vmap(x_with_leading_dim)}\")\n",
        "\n",
        "# Run it on batch of vectors\n",
        "print(f\"Batch/list of vector:{min_max_vmap(batched_x)}\")"
      ],
      "metadata": {
        "colab": {
          "base_uri": "https://localhost:8080/"
        },
        "id": "1HSjmqspMwvb",
        "outputId": "6e69df44-5ede-474c-f4e4-ba727211118a"
      },
      "execution_count": 26,
      "outputs": [
        {
          "output_type": "stream",
          "name": "stdout",
          "text": [
            "Single vector: [[0 4]]\n",
            "Batch/list of vector:[[ 0  4]\n",
            " [ 5  9]\n",
            " [10 14]]\n"
          ]
        }
      ]
    },
    {
      "cell_type": "code",
      "source": [
        "batched_x = np.arange(5000).reshape((50, 100))\n",
        "\n",
        "# Trace the functions with first call\n",
        "manual_batch_min_max_loop(batched_x).block_until_ready()\n",
        "# manual_batch_min_max_axis(batched_x).block_until_ready()\n",
        "min_max_vmap(batched_x).block_until_ready()\n",
        "\n",
        "min_max_forloop_time = %timeit -o -n 10 manual_batch_min_max_loop(batched_x).block_until_ready()\n",
        "# min_max_axis_time = %timeit -o -n 10 manual_batch_min_max_axis(batched_x).block_until_ready()\n",
        "min_max_vmap_time = %timeit -o -n 10 min_max_vmap(batched_x).block_until_ready()\n",
        "\n",
        "print(\n",
        "    f\"Avg Times (lower is better) - Naive Implementation: {np.round(np.mean(min_max_forloop_time.all_runs),5)} Vmapped Function: {np.round(np.mean(min_max_vmap_time.all_runs),5)} \"\n",
        ")"
      ],
      "metadata": {
        "colab": {
          "base_uri": "https://localhost:8080/"
        },
        "id": "G-8HISjaM0lO",
        "outputId": "5f9bf20b-e8bf-4227-f6c7-b2f060783dcc"
      },
      "execution_count": 28,
      "outputs": [
        {
          "output_type": "stream",
          "name": "stdout",
          "text": [
            "68.4 µs ± 23.7 µs per loop (mean ± std. dev. of 7 runs, 10 loops each)\n",
            "The slowest run took 7.09 times longer than the fastest. This could mean that an intermediate result is being cached.\n",
            "29.5 µs ± 31.8 µs per loop (mean ± std. dev. of 7 runs, 10 loops each)\n",
            "Avg Times (lower is better) - Naive Implementation: 0.00068 Vmapped Function: 0.00029 \n"
          ]
        }
      ]
    },
    {
      "cell_type": "markdown",
      "source": [
        "##Pmap"
      ],
      "metadata": {
        "id": "zedPaunlUCB-"
      }
    },
    {
      "cell_type": "code",
      "source": [
        "# @title Illustration of Sequential Dot Product (Run me)\n",
        "from IPython.display import HTML\n",
        "\n",
        "HTML(\n",
        "    '<iframe width=\"560\" height=\"315\" src=\"https://www.assemblyai.com/blog/content/media/2022/02/not_parallel-2.mp4\" frameborder=\"0\" allow=\"accelerometer; autoplay; encrypted-media; gyroscope; picture-in-picture\" allowfullscreen></iframe>'\n",
        ")"
      ],
      "metadata": {
        "colab": {
          "base_uri": "https://localhost:8080/",
          "height": 391
        },
        "id": "W2KrfzmQM4Dt",
        "outputId": "d93ce929-c3af-4323-e095-a5118c654dc3"
      },
      "execution_count": 29,
      "outputs": [
        {
          "output_type": "stream",
          "name": "stderr",
          "text": [
            "/usr/local/lib/python3.10/dist-packages/IPython/core/display.py:724: UserWarning: Consider using IPython.display.IFrame instead\n",
            "  warnings.warn(\"Consider using IPython.display.IFrame instead\")\n"
          ]
        },
        {
          "output_type": "execute_result",
          "data": {
            "text/plain": [
              "<IPython.core.display.HTML object>"
            ],
            "text/html": [
              "<iframe width=\"560\" height=\"315\" src=\"https://www.assemblyai.com/blog/content/media/2022/02/not_parallel-2.mp4\" frameborder=\"0\" allow=\"accelerometer; autoplay; encrypted-media; gyroscope; picture-in-picture\" allowfullscreen></iframe>"
            ]
          },
          "metadata": {},
          "execution_count": 29
        }
      ]
    },
    {
      "cell_type": "code",
      "source": [
        "# Let's generate a batch of size 8, each with a matrix of size (500, 600)\n",
        "\n",
        "# Let create 8 keys, 1 for each batch\n",
        "keys = jax.random.split(jax.random.PRNGKey(0), 8)\n",
        "\n",
        "# Let create our batches\n",
        "mats = jnp.stack([jax.random.normal(key, (500, 600)) for key in keys])\n",
        "\n",
        "\n",
        "def dot_product_sequential():\n",
        "    @jit\n",
        "    def avg_dot_prod(mats):\n",
        "        result = []\n",
        "        # Loop through batch and compute dp\n",
        "        for mat in mats:\n",
        "            # dot product between the a mat and mat.T (transposed version)\n",
        "            result.append(jnp.dot(mat, mat.T))\n",
        "        return jnp.stack(result)\n",
        "\n",
        "    avg_dot_prod(mats).block_until_ready()\n",
        "\n",
        "\n",
        "run_sequential = %timeit -o -n 5 dot_product_sequential()"
      ],
      "metadata": {
        "colab": {
          "base_uri": "https://localhost:8080/"
        },
        "id": "-6R3OfPgUDL0",
        "outputId": "eb27f1bb-e1a2-4db0-cc02-064be9248341"
      },
      "execution_count": 30,
      "outputs": [
        {
          "output_type": "stream",
          "name": "stdout",
          "text": [
            "249 ms ± 40.3 ms per loop (mean ± std. dev. of 7 runs, 5 loops each)\n"
          ]
        }
      ]
    },
    {
      "cell_type": "code",
      "source": [
        "# Let create 8 keys, 1 for each batch\n",
        "keys = jax.random.split(jax.random.PRNGKey(0), 8)\n",
        "\n",
        "# Each replicated pmapped function get a different key\n",
        "mats = pmap(lambda key: jax.random.normal(key, (500, 600)))(keys)"
      ],
      "metadata": {
        "id": "MQ6oXHVxUSrt"
      },
      "execution_count": 31,
      "outputs": []
    },
    {
      "cell_type": "code",
      "source": [
        "print(mats.shape)"
      ],
      "metadata": {
        "colab": {
          "base_uri": "https://localhost:8080/"
        },
        "id": "6aaqlSKCUZ70",
        "outputId": "da3ef5ae-72a1-4941-b95b-6d4c1b4e8a9c"
      },
      "execution_count": 32,
      "outputs": [
        {
          "output_type": "stream",
          "name": "stdout",
          "text": [
            "(8, 500, 600)\n"
          ]
        }
      ]
    },
    {
      "cell_type": "code",
      "source": [
        "print(type(mats))"
      ],
      "metadata": {
        "colab": {
          "base_uri": "https://localhost:8080/"
        },
        "id": "tEVj-2cEUzRu",
        "outputId": "c985e520-2c35-4d97-bde3-366fc6a94379"
      },
      "execution_count": 33,
      "outputs": [
        {
          "output_type": "stream",
          "name": "stdout",
          "text": [
            "<class 'jaxlib.xla_extension.ArrayImpl'>\n"
          ]
        }
      ]
    },
    {
      "cell_type": "code",
      "source": [
        "def dot_product_parallel():\n",
        "\n",
        "    # Run a local matmul on each device in parallel (no data transfer)\n",
        "    result = pmap(lambda x: jnp.dot(x, x.T))(\n",
        "        mats\n",
        "    ).block_until_ready()  # result.shape is (8, 5000, 5000)\n",
        "\n",
        "\n",
        "run_parallel = %timeit -o -n  5 dot_product_parallel()"
      ],
      "metadata": {
        "colab": {
          "base_uri": "https://localhost:8080/"
        },
        "id": "LF0Ms0kTU0f2",
        "outputId": "73036ebd-6c97-487b-aca5-9acdb92fe03e"
      },
      "execution_count": 34,
      "outputs": [
        {
          "output_type": "stream",
          "name": "stdout",
          "text": [
            "63.9 ms ± 1.73 ms per loop (mean ± std. dev. of 7 runs, 5 loops each)\n"
          ]
        }
      ]
    },
    {
      "cell_type": "code",
      "source": [
        "# @title Let's plot the performance difference (Run Cell)\n",
        "\n",
        "jax_parallel_time = np.mean(run_parallel.all_runs)\n",
        "jax_seq_time = np.mean(run_sequential.all_runs)\n",
        "\n",
        "\n",
        "data = {\"JAX (seq)\": jax_seq_time, \"JAX (parallel - pmap)\": jax_parallel_time}\n",
        "\n",
        "plot_performance(data, title=\"Average time taken for Seq vs Parallel Dot Product\")"
      ],
      "metadata": {
        "colab": {
          "base_uri": "https://localhost:8080/",
          "height": 489
        },
        "id": "clQo4mAOWhHP",
        "outputId": "8426210c-bc50-43c2-f284-acdcf21841d5"
      },
      "execution_count": 35,
      "outputs": [
        {
          "output_type": "display_data",
          "data": {
            "text/plain": [
              "<Figure size 640x480 with 1 Axes>"
            ],
            "image/png": "[encoded data removed]"
          },
          "metadata": {}
        },
        {
          "output_type": "stream",
          "name": "stdout",
          "text": [
            "JAX (parallel - pmap) was 3.89 times faster than JAX (seq) !!!\n"
          ]
        }
      ]
    },
    {
      "cell_type": "markdown",
      "source": [
        "# Building JAX Models"
      ],
      "metadata": {
        "id": "kkdWuxuETlbE"
      }
    },
    {
      "cell_type": "code",
      "source": [
        "%%capture\n",
        "# @title Install Haiku and Optax. (Run Cell)\n",
        "!pip install -U dm-haiku\n",
        "!pip install -U optax\n",
        "# For plotting.\n",
        "!pip install livelossplot"
      ],
      "metadata": {
        "id": "b10HShWdcTKw"
      },
      "execution_count": 36,
      "outputs": []
    },
    {
      "cell_type": "code",
      "source": [
        "# @title JAX Data Parallel Linear Regression with Haiku and Optax\n",
        "from typing import NamedTuple\n",
        "import haiku as hk\n",
        "import jax\n",
        "from jax import numpy as jnp\n",
        "import numpy as np\n",
        "import optax\n",
        "import functools\n",
        "\n",
        "class TrainingState(NamedTuple):\n",
        "    \"\"\"Container for the training state.\"\"\"\n",
        "    params: hk.Params\n",
        "    opt_state: optax.OptState\n",
        "    step: jnp.DeviceArray\n",
        "\n",
        "def model_fn(x):\n",
        "  net = hk.Sequential([\n",
        "    hk.Linear(output_size=1, name='linear')\n",
        "  ])\n",
        "  return net(x)\n",
        "\n",
        "# Transforms the model function into a pair of pure functions using Haiku's init and apply functions.\n",
        "model = hk.without_apply_rng(hk.transform(model_fn))\n",
        "\n",
        "def loss_fn(params, xs, ys):\n",
        "  \"\"\"Computes the least squares error of the model's predictions on x against y.\"\"\"\n",
        "  pred = model.apply(params, xs)\n",
        "  return jnp.mean((pred - ys) ** 2)\n",
        "\n",
        "@functools.partial(jax.pmap, axis_name='num_devices')\n",
        "def update(state: TrainingState, xs, ys) -> TrainingState:\n",
        "  \"\"\"Performs one SGD update step on params using the given data.\"\"\"\n",
        "\n",
        "  loss, grads = jax.value_and_grad(loss_fn)(state.params, xs, ys)\n",
        "\n",
        "  # Combine the gradient across all devices (by taking their mean).\n",
        "  grads = jax.lax.pmean(grads, axis_name='num_devices')\n",
        "\n",
        "  # Also combine the loss. Unnecessary for the update, but useful for logging.\n",
        "  loss = jax.lax.pmean(loss, axis_name='num_devices')\n",
        "\n",
        "  # Use optax to update the gradients.\n",
        "  updates, new_opt_state = optimizer.update(grads, state.opt_state)\n",
        "  new_params = optax.apply_updates(state.params, updates)\n",
        "\n",
        "  return TrainingState(new_params, new_opt_state, state.step + 1), loss\n",
        "\n",
        "# Generate true data from y = w*x + b + noise\n",
        "true_w, true_b = 2, -1\n",
        "xs = np.random.normal(size=(128, 1))\n",
        "noise = 0.5 * np.random.normal(size=(128, 1))\n",
        "ys = xs * true_w + true_b + noise\n",
        "\n",
        "# Initialise parameters and replicate across devices.\n",
        "init_params = model.init(jax.random.PRNGKey(123), xs)\n",
        "n_devices = jax.local_device_count()\n",
        "devices = jax.local_devices()\n",
        "# replicated_params = jax.tree_map(lambda x: jnp.array([x] * n_devices), params)\n",
        "\n",
        "# Initialize the optimizer and its state.\n",
        "optimizer = optax.sgd(0.005)\n",
        "opt_state = optimizer.init(init_params)\n",
        "\n",
        "# Initialize training state\n",
        "state = TrainingState(init_params, opt_state, jnp.array(0))\n",
        "state = jax.device_put_sharded([state] * len(devices), devices)\n",
        "\n",
        "def split(arr):\n",
        "  \"\"\"Splits the first axis of `arr` evenly across the number of devices.\"\"\"\n",
        "  return arr.reshape(n_devices, arr.shape[0] // n_devices, *arr.shape[1:])\n",
        "\n",
        "# Reshape xs and ys for the pmapped `update()`.\n",
        "x_split = split(xs)\n",
        "y_split = split(ys)\n",
        "\n",
        "# Actual training loop.\n",
        "for i in range(1000):\n",
        "\n",
        "  # This is where the params and data gets communicated to devices:\n",
        "  state, loss = update(state, x_split, y_split)\n",
        "\n",
        "  if i % 100 == 0:\n",
        "    # Note that loss is actually an array of shape [num_devices], with identical\n",
        "    # entries, because each device returns its copy of the loss.\n",
        "    # So, we take the first element to print it.\n",
        "    print(f\"Step {i}, loss: {loss[0]:.3f}\")\n",
        "\n",
        "# Like the loss, the leaves of params have an extra leading dimension,\n",
        "# so we take the params from the first device.\n",
        "params = jax.device_get(jax.tree_map(lambda x: x[0], state.params))\n",
        "\n",
        "# Printing the trained model's parameters\n",
        "print(\"Trained model's parameters:\", params)"
      ],
      "metadata": {
        "id": "eCnGbzEo3PNX",
        "colab": {
          "base_uri": "https://localhost:8080/"
        },
        "outputId": "a1868c46-4b84-4bf7-d49a-73f7ffe0d731"
      },
      "execution_count": 37,
      "outputs": [
        {
          "output_type": "stream",
          "name": "stderr",
          "text": [
            "/usr/local/lib/python3.10/dist-packages/haiku/_src/base.py:515: UserWarning: Explicitly requested dtype float64 requested in zeros is not available, and will be truncated to dtype float32. To enable more dtypes, set the jax_enable_x64 configuration option or the JAX_ENABLE_X64 shell environment variable. See https://github.com/google/jax#current-gotchas for more.\n",
            "  param = init(shape, dtype)\n"
          ]
        },
        {
          "output_type": "stream",
          "name": "stdout",
          "text": [
            "Step 0, loss: 12.433\n",
            "Step 100, loss: 2.061\n",
            "Step 200, loss: 0.500\n",
            "Step 300, loss: 0.258\n",
            "Step 400, loss: 0.220\n",
            "Step 500, loss: 0.214\n",
            "Step 600, loss: 0.213\n",
            "Step 700, loss: 0.213\n",
            "Step 800, loss: 0.213\n",
            "Step 900, loss: 0.213\n",
            "Trained model's parameters: {'linear': {'b': array([-0.97044504], dtype=float32), 'w': array([[1.9543604]], dtype=float32)}}\n"
          ]
        }
      ]
    },
    {
      "cell_type": "code",
      "source": [
        "import matplotlib.pyplot as plt\n",
        "plt.scatter(xs, ys)\n",
        "plt.plot(xs, params['linear']['w'] * xs + params['linear']['b'], c='red', label='Model Prediction')\n",
        "plt.legend()\n",
        "plt.show()"
      ],
      "metadata": {
        "colab": {
          "base_uri": "https://localhost:8080/",
          "height": 430
        },
        "id": "bIhWkJJDed35",
        "outputId": "5e95bdd3-9cc3-45e4-ec11-8ee6e8c4a193"
      },
      "execution_count": 38,
      "outputs": [
        {
          "output_type": "display_data",
          "data": {
            "text/plain": [
              "<Figure size 640x480 with 1 Axes>"
            ],
            "image/png": "[encoded data removed]"
          },
          "metadata": {}
        }
      ]
    }
  ]
}