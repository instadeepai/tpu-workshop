{
 "cells": [
  {
   "cell_type": "markdown",
   "metadata": {
    "id": "F6_OPQLK7YKn"
   },
   "source": [
    "#  Introduction to JAX\n",
    "\n",
    "<a target=\"_blank\" href=\"https://colab.research.google.com/github/instadeepai/tpu-workshop/blob/main/JaxIntroWorkshop.ipynb\">\n",
    "  <img src=\"https://colab.research.google.com/assets/colab-badge.svg\" alt=\"Open In Colab\"/>\n",
    "</a>\n",
    "\n",
    "**Authors:**\n",
    "Donal Byrne\n",
    "\n",
    "**With Thanks:**\n",
    "Kale-ab Tessera\n",
    "\n",
    "<br/>\n",
    "\n",
    "In this workshop we will walk through a crash course in JAX, going through everthing you need to know to start developing algorithms on Google Cloud TPU's🌩️! \n",
    "\n",
    "### &#x1F440; **Contents**\n",
    "\n",
    "* &#x1F6A7; [Setup](#scrollTo=uTgyaSXdXTV2&line=1&uniqifier=1)\n",
    "\n",
    "* 🤔 [What Is JAX](#scrollTo=JGkHAequ08zr&line=1&uniqifier=1)\n",
    "\n",
    "* 😀 [JAX Basics](#scrollTo=Q8dT4n8DebuP&line=1&uniqifier=1)\n",
    "\n",
    "    * 🏍️ [Accelerated Numpy](#scrollTo=4ZM6E8Zl01Wf&line=1&uniqifier=1)\n",
    "\n",
    "    * 🔒 [Immutability](#scrollTo=WM2fgptY1tYg&line=1&uniqifier=1)\n",
    "\n",
    "    * 🎲 [Randomness](#scrollTo=VEwV_x1iAJ7_&line=1&uniqifier=1)\n",
    "\n",
    "    * 🖥️ [Agnostic Backend](#scrollTo=BWdqwGjzA-ci&line=1&uniqifier=1)\n",
    "\n",
    "* 🤖 [JAX Transformations](#scrollTo=6qPm35e3eh2U&line=1&uniqifier=1)\n",
    "\n",
    "    * [Jit](#scrollTo=BWdqwGjzA-ci&line=1&uniqifier=1)\n",
    "\n",
    "    * [Grad](#scrollTo=BWdqwGjzA-ci&line=1&uniqifier=1)\n",
    "\n",
    "    * [Vmap](#scrollTo=BWdqwGjzA-ci&line=1&uniqifier=1)\n",
    "\n",
    "    * [Pmap](#scrollTo=BWdqwGjzA-ci&line=1&uniqifier=1)\n",
    "\n",
    "* 📈 [Model Training](#scrollTo=kkdWuxuETlbE&line=7&uniqifier=1)\n",
    "\n",
    "* 🔢[Coding Challenge](#scrollTo=Un0kkCZ0tEzK)\n",
    "\n",
    "* 📚 [Further Reading?](#scrollTo=-mI2c8DjwS3n&line=6&uniqifier=1)\n"
   ]
  },
  {
   "cell_type": "markdown",
   "metadata": {
    "id": "uTgyaSXdXTV2"
   },
   "source": [
    "# Setup "
   ]
  },
  {
   "cell_type": "code",
   "execution_count": 1,
   "metadata": {
    "colab": {
     "base_uri": "https://localhost:8080/"
    },
    "id": "jXAkGTutqcQ9",
    "outputId": "a15b1458-ec8b-409f-aabf-4ccf919eba5c",
    "tags": []
   },
   "outputs": [
    {
     "name": "stdout",
     "output_type": "stream",
     "text": [
      "Requirement already satisfied: chex==0.1.6 in /opt/conda/envs/google-tpu-workshop/lib/python3.8/site-packages (0.1.6)\n",
      "Requirement already satisfied: absl-py>=0.9.0 in /opt/conda/envs/google-tpu-workshop/lib/python3.8/site-packages (from chex==0.1.6) (1.4.0)\n",
      "Requirement already satisfied: toolz>=0.9.0 in /opt/conda/envs/google-tpu-workshop/lib/python3.8/site-packages (from chex==0.1.6) (0.12.0)\n",
      "Requirement already satisfied: jax>=0.1.55 in /opt/conda/envs/google-tpu-workshop/lib/python3.8/site-packages (from chex==0.1.6) (0.3.25)\n",
      "Requirement already satisfied: typing-extensions>=4.2.0 in /opt/conda/envs/google-tpu-workshop/lib/python3.8/site-packages (from chex==0.1.6) (4.5.0)\n",
      "Requirement already satisfied: dm-tree>=0.1.5 in /opt/conda/envs/google-tpu-workshop/lib/python3.8/site-packages (from chex==0.1.6) (0.1.8)\n",
      "Requirement already satisfied: numpy>=1.18.0 in /opt/conda/envs/google-tpu-workshop/lib/python3.8/site-packages (from chex==0.1.6) (1.23.5)\n",
      "Requirement already satisfied: jaxlib>=0.1.37 in /opt/conda/envs/google-tpu-workshop/lib/python3.8/site-packages (from chex==0.1.6) (0.3.25)\n",
      "Requirement already satisfied: scipy>=1.5 in /opt/conda/envs/google-tpu-workshop/lib/python3.8/site-packages (from jax>=0.1.55->chex==0.1.6) (1.10.1)\n",
      "Requirement already satisfied: opt-einsum in /opt/conda/envs/google-tpu-workshop/lib/python3.8/site-packages (from jax>=0.1.55->chex==0.1.6) (3.3.0)\n"
     ]
    }
   ],
   "source": [
    "# Make sure to use a version of chex compatible with jax 0.3.25\n",
    "! pip install -U chex==0.1.6"
   ]
  },
  {
   "cell_type": "code",
   "execution_count": 2,
   "metadata": {
    "colab": {
     "base_uri": "https://localhost:8080/"
    },
    "id": "NTpDljzzsjtU",
    "outputId": "f1c3f462-6de3-4456-8c2e-fbd0c2cac124",
    "tags": []
   },
   "outputs": [
    {
     "name": "stdout",
     "output_type": "stream",
     "text": [
      "Only CPU accelerator is connected.\n"
     ]
    }
   ],
   "source": [
    "## Install and import anything required. Capture hides the output from the cell.\n",
    "\n",
    "import subprocess\n",
    "import os\n",
    "\n",
    "# Based on https://stackoverflow.com/questions/67504079/how-to-check-if-an-nvidia-gpu-is-available-on-my-system\n",
    "try:\n",
    "    subprocess.check_output('nvidia-smi')\n",
    "    print(\"a GPU is connected.\")\n",
    "except Exception: \n",
    "    # TPU or CPU\n",
    "    if \"COLAB_TPU_ADDR\" in os.environ and os.environ[\"COLAB_TPU_ADDR\"]:\n",
    "        import jax.tools.colab_tpu\n",
    "        jax.tools.colab_tpu.setup_tpu()\n",
    "        print(\"A TPU is connected.\")\n",
    "\n",
    "    else:\n",
    "        print(\"Only CPU accelerator is connected.\")\n",
    "        # x8 cpu devices - number of (emulated) host devices\n",
    "        os.environ[\"XLA_FLAGS\"] = \"--xla_force_host_platform_device_count=8\"\n",
    "import jax\n",
    "import jax.numpy as jnp\n",
    "from jax import grad, jit, vmap, pmap\n",
    "import optax\n",
    "import matplotlib.pyplot as plt\n",
    "import numpy as np"
   ]
  },
  {
   "cell_type": "code",
   "execution_count": 3,
   "metadata": {
    "cellView": "form",
    "id": "Ur9ZxjjVs8HN",
    "tags": []
   },
   "outputs": [],
   "source": [
    "# @title Helper Functions. (Run Cell)\n",
    "import copy\n",
    "from typing import Dict\n",
    "\n",
    "\n",
    "def plot_performance(data: Dict, title: str):\n",
    "    runs = list(data.keys())\n",
    "    time = list(data.values())\n",
    "\n",
    "    # creating the bar plot\n",
    "    plt.bar(runs, time, width=0.35)\n",
    "\n",
    "    plt.xlabel(\"Implementation\")\n",
    "    plt.ylabel(\"Average time taken (in s)\")\n",
    "    plt.title(title)\n",
    "    plt.show()\n",
    "\n",
    "    best_perf_key = min(data, key=data.get)\n",
    "    all_runs_key = copy.copy(runs)\n",
    "\n",
    "    # all_runs_key_except_best\n",
    "    all_runs_key.remove(best_perf_key)\n",
    "\n",
    "    for k in all_runs_key:\n",
    "        print(\n",
    "            f\"{best_perf_key} was {round((data[k]/data[best_perf_key]),2)} times faster than {k} !!!\"\n",
    "        )"
   ]
  },
  {
   "cell_type": "code",
   "execution_count": 4,
   "metadata": {
    "colab": {
     "base_uri": "https://localhost:8080/"
    },
    "id": "LdWajwL4s81U",
    "outputId": "8b262a8a-4610-43f1-e629-9fb032d4a7c0",
    "tags": []
   },
   "outputs": [
    {
     "name": "stdout",
     "output_type": "stream",
     "text": [
      "Device Count: 4\n",
      " Devices: [TpuDevice(id=0, process_index=0, coords=(0,0,0), core_on_chip=0), TpuDevice(id=1, process_index=0, coords=(1,0,0), core_on_chip=0), TpuDevice(id=2, process_index=0, coords=(0,1,0), core_on_chip=0), TpuDevice(id=3, process_index=0, coords=(1,1,0), core_on_chip=0)]\n"
     ]
    }
   ],
   "source": [
    "# @title Check the device you are using (Run Cell)\n",
    "print(f\"Device Count: {jax.device_count()}\")\n",
    "print(f\" Devices: {jax.devices()}\")"
   ]
  },
  {
   "cell_type": "markdown",
   "metadata": {
    "id": "JGkHAequ08zr"
   },
   "source": [
    "# 🤔 What is JAX? \n",
    "\n",
    "JAX is a **high performance**, numerical computing library which focuses on generating **optimized code**, as **simply** as possible.\n",
    "\n",
    "By combining the best of NumPy, Autograd, and XLA (Accelerated Linear Algebra), JAX enables users to express complex algorithms while maintaining high performance. \n",
    "\n",
    "JAX focuses on providing minimal, yet powerful, low level operations and transformations that empower user to easily develop and scale scientific based experiments. \n",
    "\n",
    "To top it off, JAX automatically scales to all major Hardware Accelerators without the need for any code changes.\n"
   ]
  },
  {
   "cell_type": "markdown",
   "metadata": {
    "id": "Q8dT4n8DebuP"
   },
   "source": [
    "# JAX Basics\n"
   ]
  },
  {
   "cell_type": "markdown",
   "metadata": {
    "id": "GkN7CLotpmDJ"
   },
   "source": [
    "## Pure Functions\n",
    "\n",
    "JAX provides powerful transformations to help accelerate your code, but in order to do this relaibaly, JAX has be designed to with **pure functions**. These functions have the following properties:\n",
    "\n",
    "1. All **input** data is passed through the **function's parameters**. \n",
    "2. All **results** are output through the **function's return**. \n",
    "3. The function always returns the same **result** if invoked with the **same inputs**. What if your function involves randomness? Pass in the random seed!\n",
    "4. **No [side-effects](https://en.wikipedia.org/wiki/Side_effect_(computer_science))** - no mutation of non-local variables or input/output streams.  \n"
   ]
  },
  {
   "cell_type": "code",
   "execution_count": 5,
   "metadata": {
    "id": "Tqm-ubHkpkwG",
    "tags": []
   },
   "outputs": [],
   "source": [
    "# Impure - Bad\n",
    "\n",
    "global_term = 3\n",
    "outputs = 0\n",
    "\n",
    "def impure_function(x: int) -> None:\n",
    "    outputs = x + global_term \n",
    "\n",
    "# Pure - Good\n",
    "\n",
    "def pure_function(x: int, term: int) -> int:\n",
    "    return x + term"
   ]
  },
  {
   "cell_type": "markdown",
   "metadata": {
    "id": "4ZM6E8Zl01Wf"
   },
   "source": [
    "## Accelerated Numpy \n",
    "\n",
    "JAX is frequently refered to as **Accelerated Numpy**.\n",
    "The main similarity between JAX and NumPy is that they share a similar interface and often, JAX and NumPy arrays can be used interchangeably. Most methods in NumPy will have a jax counter part, making JAX easier to pick up if you are already familiar with Numpy."
   ]
  },
  {
   "cell_type": "code",
   "execution_count": 6,
   "metadata": {
    "colab": {
     "base_uri": "https://localhost:8080/",
     "height": 430
    },
    "id": "dlFEyZshtBlq",
    "outputId": "64c93e4c-472f-446b-ae18-6bce66000ccc",
    "tags": []
   },
   "outputs": [
    {
     "data": {
      "image/png": "[encoded data removed]",
      "text/plain": [
       "<Figure size 640x480 with 1 Axes>"
      ]
     },
     "metadata": {},
     "output_type": "display_data"
    }
   ],
   "source": [
    "# 100 linearly spaced numbers from -np.pi to np.pi\n",
    "x = np.linspace(-np.pi, np.pi, 100)\n",
    "\n",
    "# the function, which is y = sin(x) here\n",
    "y = np.sin(x)\n",
    "\n",
    "# plot the functions\n",
    "plt.plot(x, y, \"b\", label=\"y=sin(x)\")\n",
    "\n",
    "plt.legend(loc=\"upper left\")\n",
    "\n",
    "# show the plot\n",
    "plt.show()"
   ]
  },
  {
   "cell_type": "code",
   "execution_count": 7,
   "metadata": {
    "colab": {
     "base_uri": "https://localhost:8080/",
     "height": 430
    },
    "id": "hF_o4i6b0sm1",
    "outputId": "03aba273-98bf-4fbf-d229-5ce49b931081",
    "tags": []
   },
   "outputs": [
    {
     "data": {
      "image/png": "[encoded data removed]",
      "text/plain": [
       "<Figure size 640x480 with 1 Axes>"
      ]
     },
     "metadata": {},
     "output_type": "display_data"
    }
   ],
   "source": [
    "# 100 linearly spaced numbers from -jnp.pi to jnp.pi\n",
    "x = jnp.linspace(-jnp.pi, jnp.pi, 100)\n",
    "\n",
    "# the function, which is y = sin(x) here\n",
    "y = jnp.sin(x)\n",
    "\n",
    "# plot the functions\n",
    "plt.plot(x, y, \"b\", label=\"y=sin(x)\")\n",
    "\n",
    "plt.legend(loc=\"upper left\")\n",
    "\n",
    "# show the plot\n",
    "plt.show()"
   ]
  },
  {
   "cell_type": "markdown",
   "metadata": {
    "id": "WM2fgptY1tYg"
   },
   "source": [
    "## Immutability\n",
    "\n",
    "One of the key differences between Numpy and JAX is that Jax arrays are **immutable** (they can't be modified after they are created). Allowing mutations makes transforms difficult and violates conditions for [pure functions](https://en.wikipedia.org/wiki/Pure_function)."
   ]
  },
  {
   "cell_type": "code",
   "execution_count": 8,
   "metadata": {
    "colab": {
     "base_uri": "https://localhost:8080/"
    },
    "id": "FiFcgVi81uyY",
    "outputId": "de72e6fe-ca66-4887-f11f-63f869855794",
    "tags": []
   },
   "outputs": [
    {
     "name": "stdout",
     "output_type": "stream",
     "text": [
      "[10  1  2  3  4  5  6  7  8  9]\n"
     ]
    }
   ],
   "source": [
    "# NumPy: mutable arrays\n",
    "x = np.arange(10)\n",
    "x[0] = 10\n",
    "print(x)"
   ]
  },
  {
   "cell_type": "code",
   "execution_count": 9,
   "metadata": {
    "colab": {
     "base_uri": "https://localhost:8080/"
    },
    "id": "QWv8ZHCb3Uau",
    "outputId": "5d3ca5af-d9bc-46a8-f1eb-9ab3d414f83a",
    "tags": []
   },
   "outputs": [
    {
     "name": "stdout",
     "output_type": "stream",
     "text": [
      "Exception '<class 'jaxlib.xla_extension.DeviceArray'>' object does not support item assignment. JAX arrays are immutable. Instead of ``x[idx] = y``, use ``x = x.at[idx].set(y)`` or another .at[] method: https://jax.readthedocs.io/en/latest/_autosummary/jax.numpy.ndarray.at.html\n"
     ]
    }
   ],
   "source": [
    "# JAX: immutable arrays\n",
    "# Should raise an error.\n",
    "try:\n",
    "    x = jnp.arange(10)\n",
    "    x[0] = 10\n",
    "except Exception as e:\n",
    "    print(\"Exception {}\".format(e))"
   ]
  },
  {
   "cell_type": "code",
   "execution_count": 10,
   "metadata": {
    "colab": {
     "base_uri": "https://localhost:8080/"
    },
    "id": "uC4K-mVW3Yqt",
    "outputId": "a7d79e24-42e8-441b-d827-bf7b52ed8d56",
    "tags": []
   },
   "outputs": [
    {
     "name": "stdout",
     "output_type": "stream",
     "text": [
      " new_x: [10  1  2  3  4  5  6  7  8  9] original x: [0 1 2 3 4 5 6 7 8 9]\n"
     ]
    }
   ],
   "source": [
    "x = jnp.arange(10)\n",
    "new_x = x.at[0].set(10)\n",
    "print(f\" new_x: {new_x} original x: {x}\")"
   ]
  },
  {
   "cell_type": "markdown",
   "metadata": {
    "id": "VEwV_x1iAJ7_"
   },
   "source": [
    "## Randomness\n",
    "Pseudo Random Number Generation (PRNG) is the process of algorithmically generating a sequence of numbers, which approximate the properties of a sequence of random numbers. JAX is more explicit in PRNG than NumPy and other libraries (such as TensorFlow or PyTorch) and uses a modern PRNG algorithm([Threefry counter-based PRNG](https://bashtage.github.io/randomgen/bit_generators/threefry.html)) that handles the random state explicitly.\n",
    "\n",
    "Let's see the differences in how JAX and NumPy generate random numbers."
   ]
  },
  {
   "cell_type": "code",
   "execution_count": 11,
   "metadata": {
    "id": "pZywwz3PALHY",
    "tags": []
   },
   "outputs": [],
   "source": [
    "# Set random seed\n",
    "np.random.seed(42)\n",
    "prng_state = np.random.get_state()"
   ]
  },
  {
   "cell_type": "code",
   "execution_count": 12,
   "metadata": {
    "id": "TtDyqu5MALiB",
    "tags": []
   },
   "outputs": [],
   "source": [
    "# @title Helper function to compare prng keys (Run Cell)\n",
    "def is_prng_state_the_same(prng_1, prng_2):\n",
    "    \"\"\"Helper function to compare two prng keys.\"\"\"\n",
    "    # concat all elements in prng tuple\n",
    "    list_prng_data_equal = [(a == b) for a, b in zip(prng_1, prng_2)]\n",
    "    # stack all elements together\n",
    "    list_prng_data_equal = np.hstack(list_prng_data_equal)\n",
    "    # check if all elements are the same\n",
    "    is_prng_equal = all(list_prng_data_equal)\n",
    "    return is_prng_equal"
   ]
  },
  {
   "cell_type": "code",
   "execution_count": 13,
   "metadata": {
    "colab": {
     "base_uri": "https://localhost:8080/"
    },
    "id": "NTG-aYPLAOSF",
    "outputId": "3c90ef4c-8cb2-4983-a121-9912314494e4",
    "tags": []
   },
   "outputs": [
    {
     "name": "stdout",
     "output_type": "stream",
     "text": [
      "sample 1 = 0.4967141530112327 Did prng state change: True\n",
      "sample 2 = -0.13826430117118466 Did prng state change: True\n",
      "sample 3 = 0.6476885381006925 Did prng state change: True\n"
     ]
    }
   ],
   "source": [
    "# Example of PRNG in numpy, generate independent samples each time\n",
    "\n",
    "print(\n",
    "    f\"sample 1 = {np.random.normal()} Did prng state change: {not is_prng_state_the_same(prng_state,np.random.get_state())}\"\n",
    ")\n",
    "prng_state = np.random.get_state()\n",
    "print(\n",
    "    f\"sample 2 = {np.random.normal()} Did prng state change: {not is_prng_state_the_same(prng_state,np.random.get_state())}\"\n",
    ")\n",
    "prng_state = np.random.get_state()\n",
    "print(\n",
    "    f\"sample 3 = {np.random.normal()} Did prng state change: {not is_prng_state_the_same(prng_state,np.random.get_state())}\"\n",
    ")"
   ]
  },
  {
   "cell_type": "code",
   "execution_count": 14,
   "metadata": {
    "colab": {
     "base_uri": "https://localhost:8080/"
    },
    "id": "lFihTKTYAQ-x",
    "outputId": "3354c2a1-2c76-4c90-e8e2-1c350205f59a",
    "tags": []
   },
   "outputs": [
    {
     "name": "stdout",
     "output_type": "stream",
     "text": [
      "sample 1 = -0.18471184372901917\n",
      "sample 2 = -0.18471184372901917\n",
      "sample 3 = -0.18471184372901917\n"
     ]
    }
   ],
   "source": [
    "# Example of PRNG in JAX, same key will always provide the same output\n",
    "from jax import random\n",
    "\n",
    "key = random.PRNGKey(42)\n",
    "print(f\"sample 1 = {random.normal(key)}\")\n",
    "print(f\"sample 2 = {random.normal(key)}\")\n",
    "print(f\"sample 3 = {random.normal(key)}\")"
   ]
  },
  {
   "cell_type": "code",
   "execution_count": 15,
   "metadata": {
    "colab": {
     "base_uri": "https://localhost:8080/"
    },
    "id": "cH7ZeoZfATt3",
    "outputId": "813dccc5-0ae8-4ddb-9e93-d26b7cf69fac",
    "tags": []
   },
   "outputs": [
    {
     "name": "stdout",
     "output_type": "stream",
     "text": [
      "sample 1 = -0.18471184372901917\n",
      "sample 2 = 1.3694629669189453\n",
      "sample 3 = -0.19947032630443573\n"
     ]
    }
   ],
   "source": [
    "# Example of splitting our random key in order to generate independent \n",
    "# samples with JAX\n",
    "\n",
    "from jax import random\n",
    "\n",
    "key = random.PRNGKey(42)\n",
    "print(f\"sample 1 = {random.normal(key)}\")\n",
    "\n",
    "# We split the key -> new key and subkey\n",
    "new_key, subkey = random.split(key)\n",
    "\n",
    "# We use the subkey immediately and keep the new key for future splits.\n",
    "# It doesn't really matter which key we keep and which one we use immediately.\n",
    "print(f\"sample 2 = {random.normal(subkey)}\")\n",
    "\n",
    "# We split the new key -> new key2 and subkey\n",
    "new_key2, subkey = random.split(new_key)\n",
    "print(f\"sample 3 = {random.normal(subkey)}\")"
   ]
  },
  {
   "cell_type": "markdown",
   "metadata": {
    "id": "BWdqwGjzA-ci"
   },
   "source": [
    "##Agnostic Backend\n",
    "\n"
   ]
  },
  {
   "cell_type": "code",
   "execution_count": 16,
   "metadata": {
    "colab": {
     "base_uri": "https://localhost:8080/"
    },
    "id": "Nv7AW2_cAWb7",
    "outputId": "9812f21a-4280-428b-c330-144f5e9d41fc",
    "tags": []
   },
   "outputs": [
    {
     "name": "stdout",
     "output_type": "stream",
     "text": [
      "6.09 ms ± 3.28 ms per loop (mean ± std. dev. of 7 runs, 10 loops each)\n"
     ]
    }
   ],
   "source": [
    "size = 1000\n",
    "x = np.random.normal(size=(size, size))\n",
    "y = np.random.normal(size=(size, size))\n",
    "numpy_time = %timeit -o -n 10 a_np = np.dot(y,x.T)"
   ]
  },
  {
   "cell_type": "code",
   "execution_count": 17,
   "metadata": {
    "colab": {
     "base_uri": "https://localhost:8080/"
    },
    "id": "Og1NrXXHBEiP",
    "outputId": "f88c17a4-21b9-4fea-820e-39c01e4ac470",
    "tags": []
   },
   "outputs": [
    {
     "name": "stdout",
     "output_type": "stream",
     "text": [
      "The slowest run took 120.92 times longer than the fastest. This could mean that an intermediate result is being cached.\n",
      "8.15 ms ± 18.8 ms per loop (mean ± std. dev. of 7 runs, 10 loops each)\n"
     ]
    }
   ],
   "source": [
    "size = 1000\n",
    "key1, key2 = jax.random.split(jax.random.PRNGKey(42), num=2)\n",
    "x = jax.random.normal(key1, shape=(size, size))\n",
    "y = jax.random.normal(key2, shape=(size, size))\n",
    "jax_time = %timeit -o -n 10 jnp.dot(y, x.T).block_until_ready()"
   ]
  },
  {
   "cell_type": "code",
   "execution_count": 18,
   "metadata": {
    "colab": {
     "base_uri": "https://localhost:8080/",
     "height": 489
    },
    "id": "LvMcoZfUBHRp",
    "outputId": "96ead0c3-55a7-4e60-a403-a19b5cedf0b5",
    "tags": []
   },
   "outputs": [
    {
     "data": {
      "image/png": "[encoded data removed]",
      "text/plain": [
       "<Figure size 640x480 with 1 Axes>"
      ]
     },
     "metadata": {},
     "output_type": "display_data"
    },
    {
     "name": "stdout",
     "output_type": "stream",
     "text": [
      "numpy was 1.34 times faster than jax !!!\n"
     ]
    }
   ],
   "source": [
    "np_average_time = np.mean(numpy_time.all_runs)\n",
    "jax_average_time = np.mean(jax_time.all_runs)\n",
    "data = {\"numpy\": np_average_time, \"jax\": jax_average_time}\n",
    "\n",
    "plot_performance(data, title=\"Average time taken per framework to run dot product\")"
   ]
  },
  {
   "cell_type": "markdown",
   "metadata": {
    "id": "6qPm35e3eh2U"
   },
   "source": [
    "# JAX Transformations\n",
    "\n",
    "JAX transformations are functions that help modify and manipulate your normal python functions to execute them efficiently on hardware accelerators like TPUs."
   ]
  },
  {
   "cell_type": "markdown",
   "metadata": {
    "id": "T4EW239KJ0sA"
   },
   "source": [
    "##Jit Compiling\n",
    "\n",
    "JIT compilers compile the code during execution, translating parts of the source code into machine code just before they are run. \n",
    "\n",
    "This allows for optimizations tailored to the specific runtime context, such as function inlining, loop unrolling, or type specialization, and can lead to significant performance improvements."
   ]
  },
  {
   "cell_type": "code",
   "execution_count": 19,
   "metadata": {
    "id": "G-hvya5YKG5i",
    "tags": []
   },
   "outputs": [],
   "source": [
    "def relu(x):\n",
    "    return jnp.where(x > 0, x, 0)\n",
    "    # Another option - return jnp.maximum(x,0)"
   ]
  },
  {
   "cell_type": "code",
   "execution_count": 20,
   "metadata": {
    "colab": {
     "base_uri": "https://localhost:8080/",
     "height": 561
    },
    "id": "Hr3_7L7VBMMU",
    "outputId": "3fbebfbb-d375-455d-e17c-0cd85b6de03f",
    "tags": []
   },
   "outputs": [
    {
     "name": "stdout",
     "output_type": "stream",
     "text": [
      "The slowest run took 24.48 times longer than the fastest. This could mean that an intermediate result is being cached.\n",
      "3.02 ms ± 5.65 ms per loop (mean ± std. dev. of 7 runs, 10 loops each)\n",
      "312 µs ± 30.2 µs per loop (mean ± std. dev. of 7 runs, 10 loops each)\n"
     ]
    },
    {
     "data": {
      "image/png": "[encoded data removed]",
      "text/plain": [
       "<Figure size 640x480 with 1 Axes>"
      ]
     },
     "metadata": {},
     "output_type": "display_data"
    },
    {
     "name": "stdout",
     "output_type": "stream",
     "text": [
      "JAX (with jit) was 9.67 times faster than JAX (no jit) !!!\n"
     ]
    }
   ],
   "source": [
    "# jit our function\n",
    "relu_jit = jax.jit(relu)\n",
    "\n",
    "# generate random input\n",
    "key = jax.random.PRNGKey(42)\n",
    "num_random_numbers = 1000000\n",
    "x = jax.random.normal(key, (num_random_numbers,))\n",
    "\n",
    "# time normal jit function\n",
    "jax_time = %timeit -o -n 10 relu(x).block_until_ready()\n",
    "\n",
    "# Warm up/Compile - first run for jitted function\n",
    "relu_jit(x).block_until_ready()\n",
    "\n",
    "# time jitted function\n",
    "jax_jit_time = %timeit -o -n 10 relu_jit(x).block_until_ready()\n",
    "\n",
    "# Let's plot the performance difference\n",
    "jax_avg_time = np.mean(jax_time.all_runs)\n",
    "jax_jit_avg_time = np.mean(jax_jit_time.all_runs)\n",
    "data = {\"JAX (no jit)\": jax_avg_time, \"JAX (with jit)\": jax_jit_avg_time}\n",
    "\n",
    "plot_performance(data, title=\"Average time taken for ReLU function\")"
   ]
  },
  {
   "cell_type": "markdown",
   "metadata": {
    "id": "zpfw_MmJKt1-"
   },
   "source": [
    "##Grad\n",
    "\n",
    "Grad allows us to easily calculate the gradients of a given function. "
   ]
  },
  {
   "cell_type": "code",
   "execution_count": 21,
   "metadata": {
    "id": "dG3sfi0xKMaM",
    "tags": []
   },
   "outputs": [],
   "source": [
    "f = lambda x: 6 * x**4 - 9 * x + 4"
   ]
  },
  {
   "cell_type": "code",
   "execution_count": 22,
   "metadata": {
    "colab": {
     "base_uri": "https://localhost:8080/"
    },
    "id": "Rz7NQyu8KvEE",
    "outputId": "7941d37e-2609-4e82-e573-2b12710a6a94",
    "tags": []
   },
   "outputs": [
    {
     "name": "stdout",
     "output_type": "stream",
     "text": [
      "Grad of f(3):  639.0\n"
     ]
    }
   ],
   "source": [
    "dfdx = grad(f)\n",
    "dfdx_3 = dfdx(3.0)\n",
    "\n",
    "print(\"Grad of f(3): \", dfdx_3)"
   ]
  },
  {
   "cell_type": "code",
   "execution_count": 23,
   "metadata": {
    "colab": {
     "base_uri": "https://localhost:8080/"
    },
    "id": "WJ_-vz7kK3zm",
    "outputId": "2773a3c2-f1e9-436a-cc04-68f0c1d6e835",
    "tags": []
   },
   "outputs": [
    {
     "name": "stdout",
     "output_type": "stream",
     "text": [
      "3rd order gradients of f(3):  432.0\n"
     ]
    }
   ],
   "source": [
    "d3dx = grad(grad(grad(f)))\n",
    "print(\"3rd order gradients of f(3): \", d3dx(3.0))"
   ]
  },
  {
   "cell_type": "markdown",
   "metadata": {
    "id": "IM4ZBJ_QMgtE"
   },
   "source": [
    "##Vmap\n",
    "\n",
    " Vmap vectorizes or \"maps\" a function over some dimension of its input. Essentially, it transforms a function that works on single data points into a function that works on batches of data points, allowing for efficient parallel computation."
   ]
  },
  {
   "cell_type": "code",
   "execution_count": 24,
   "metadata": {
    "colab": {
     "base_uri": "https://localhost:8080/",
     "height": 391
    },
    "id": "vk7NGmqvGGBe",
    "outputId": "f352e9bb-0243-48a3-bbcb-56b34ce43959",
    "tags": []
   },
   "outputs": [
    {
     "name": "stderr",
     "output_type": "stream",
     "text": [
      "/opt/conda/envs/google-tpu-workshop/lib/python3.8/site-packages/IPython/core/display.py:431: UserWarning: Consider using IPython.display.IFrame instead\n",
      "  warnings.warn(\"Consider using IPython.display.IFrame instead\")\n"
     ]
    },
    {
     "data": {
      "text/html": [
       "<iframe width=\"560\" height=\"315\" src=\"https://www.assemblyai.com/blog/content/media/2022/02/not_vectorized-1.mp4\" frameborder=\"0\" allow=\"accelerometer; autoplay; encrypted-media; gyroscope; picture-in-picture\" allowfullscreen></iframe>"
      ],
      "text/plain": [
       "<IPython.core.display.HTML object>"
      ]
     },
     "execution_count": 24,
     "metadata": {},
     "output_type": "execute_result"
    }
   ],
   "source": [
    "# @title Illustration of Manual Batching (Run me)\n",
    "from IPython.display import HTML\n",
    "\n",
    "HTML(\n",
    "    '<iframe width=\"560\" height=\"315\" src=\"https://www.assemblyai.com/blog/content/media/2022/02/not_vectorized-1.mp4\" frameborder=\"0\" allow=\"accelerometer; autoplay; encrypted-media; gyroscope; picture-in-picture\" allowfullscreen></iframe>'\n",
    ")"
   ]
  },
  {
   "cell_type": "code",
   "execution_count": 25,
   "metadata": {
    "id": "jr68oIiTMEwy",
    "tags": []
   },
   "outputs": [],
   "source": [
    "def min_max(x):\n",
    "    return jnp.array([jnp.min(x), jnp.max(x)])"
   ]
  },
  {
   "cell_type": "code",
   "execution_count": 26,
   "metadata": {
    "colab": {
     "base_uri": "https://localhost:8080/"
    },
    "id": "X8EsuPxFMkvk",
    "outputId": "bc72776e-ce08-4597-aa4a-ac764fa53576",
    "tags": []
   },
   "outputs": [
    {
     "data": {
      "text/plain": [
       "DeviceArray([0, 4], dtype=int32)"
      ]
     },
     "execution_count": 26,
     "metadata": {},
     "output_type": "execute_result"
    }
   ],
   "source": [
    "x = jnp.arange(5)\n",
    "min_max(x)"
   ]
  },
  {
   "cell_type": "code",
   "execution_count": 27,
   "metadata": {
    "colab": {
     "base_uri": "https://localhost:8080/"
    },
    "id": "aW56ptsDMmzF",
    "outputId": "7fa0670d-e50c-473e-8a99-25cfe39b2bba",
    "tags": []
   },
   "outputs": [
    {
     "name": "stdout",
     "output_type": "stream",
     "text": [
      "[[ 0  1  2  3  4]\n",
      " [ 5  6  7  8  9]\n",
      " [10 11 12 13 14]]\n"
     ]
    }
   ],
   "source": [
    "batch_size = 3\n",
    "batched_x = np.arange(15).reshape((batch_size, -1))\n",
    "print(batched_x)"
   ]
  },
  {
   "cell_type": "code",
   "execution_count": 28,
   "metadata": {
    "colab": {
     "base_uri": "https://localhost:8080/"
    },
    "id": "Km68XfZxMouz",
    "outputId": "517bc683-dfa8-4042-97be-7138e8aaa049",
    "tags": []
   },
   "outputs": [
    {
     "name": "stdout",
     "output_type": "stream",
     "text": [
      "[[ 0  4]\n",
      " [ 5  9]\n",
      " [10 14]]\n"
     ]
    }
   ],
   "source": [
    "@jit\n",
    "def manual_batch_min_max_loop(batched_x):\n",
    "    min_max_result_list = []\n",
    "    for x in batched_x:\n",
    "        min_max_result_list.append(min_max(x))\n",
    "    return jnp.stack(min_max_result_list)\n",
    "\n",
    "\n",
    "print(manual_batch_min_max_loop(batched_x))"
   ]
  },
  {
   "cell_type": "code",
   "execution_count": 29,
   "metadata": {
    "colab": {
     "base_uri": "https://localhost:8080/",
     "height": 337
    },
    "id": "H6PrMXCqGkTk",
    "outputId": "bb91fb6e-64d5-47a3-955c-b11e202e1995",
    "tags": []
   },
   "outputs": [
    {
     "data": {
      "text/html": [
       "<iframe width=\"560\" height=\"315\" src=\"https://www.assemblyai.com/blog/content/media/2022/02/vectorized.mp4\" frameborder=\"0\" allow=\"accelerometer; autoplay; encrypted-media; gyroscope; picture-in-picture\" allowfullscreen></iframe>"
      ],
      "text/plain": [
       "<IPython.core.display.HTML object>"
      ]
     },
     "execution_count": 29,
     "metadata": {},
     "output_type": "execute_result"
    }
   ],
   "source": [
    "# @title Illustration of Vectorized Batching (Run me)\n",
    "from IPython.display import HTML\n",
    "\n",
    "HTML(\n",
    "    '<iframe width=\"560\" height=\"315\" src=\"https://www.assemblyai.com/blog/content/media/2022/02/vectorized.mp4\" frameborder=\"0\" allow=\"accelerometer; autoplay; encrypted-media; gyroscope; picture-in-picture\" allowfullscreen></iframe>'\n",
    ")"
   ]
  },
  {
   "cell_type": "code",
   "execution_count": 30,
   "metadata": {
    "colab": {
     "base_uri": "https://localhost:8080/"
    },
    "id": "1HSjmqspMwvb",
    "outputId": "0dc3c550-b612-4207-bba7-0b8c1d441110",
    "tags": []
   },
   "outputs": [
    {
     "name": "stdout",
     "output_type": "stream",
     "text": [
      "Single vector: [[0 4]]\n",
      "Batch/list of vector:[[ 0  4]\n",
      " [ 5  9]\n",
      " [10 14]]\n"
     ]
    }
   ],
   "source": [
    "# define our vmap function using our original single vector function\n",
    "@jit\n",
    "def min_max_vmap(batched_x):\n",
    "    return vmap(min_max)(batched_x)\n",
    "\n",
    "\n",
    "# Run it on a single vecor\n",
    "## We add extra dimention in a single vector, shape changes from (5,) to (1,5), which makes the vmapping possible\n",
    "x_with_leading_dim = jax.numpy.expand_dims(x, axis=0)\n",
    "print(f\"Single vector: {min_max_vmap(x_with_leading_dim)}\")\n",
    "\n",
    "# Run it on batch of vectors\n",
    "print(f\"Batch/list of vector:{min_max_vmap(batched_x)}\")"
   ]
  },
  {
   "cell_type": "code",
   "execution_count": 31,
   "metadata": {
    "colab": {
     "base_uri": "https://localhost:8080/"
    },
    "id": "G-8HISjaM0lO",
    "outputId": "7af97ae1-6e87-4fc6-d96a-825d95fb06d4",
    "tags": []
   },
   "outputs": [
    {
     "name": "stdout",
     "output_type": "stream",
     "text": [
      "789 µs ± 90.9 µs per loop (mean ± std. dev. of 7 runs, 10 loops each)\n",
      "561 µs ± 24 µs per loop (mean ± std. dev. of 7 runs, 10 loops each)\n",
      "Avg Times (lower is better) - Naive Implementation: 0.00789 Vmapped Function: 0.00561 \n"
     ]
    }
   ],
   "source": [
    "batched_x = np.arange(5000).reshape((50, 100))\n",
    "\n",
    "# Trace the functions with first call\n",
    "manual_batch_min_max_loop(batched_x).block_until_ready()\n",
    "min_max_vmap(batched_x).block_until_ready()\n",
    "\n",
    "min_max_forloop_time = %timeit -o -n 10 manual_batch_min_max_loop(batched_x).block_until_ready()\n",
    "min_max_vmap_time = %timeit -o -n 10 min_max_vmap(batched_x).block_until_ready()\n",
    "\n",
    "print(\n",
    "    f\"Avg Times (lower is better) - Naive Implementation: {np.round(np.mean(min_max_forloop_time.all_runs),5)} Vmapped Function: {np.round(np.mean(min_max_vmap_time.all_runs),5)} \"\n",
    ")"
   ]
  },
  {
   "cell_type": "markdown",
   "metadata": {
    "id": "zedPaunlUCB-"
   },
   "source": [
    "##Pmap"
   ]
  },
  {
   "cell_type": "code",
   "execution_count": 32,
   "metadata": {
    "colab": {
     "base_uri": "https://localhost:8080/",
     "height": 337
    },
    "id": "W2KrfzmQM4Dt",
    "outputId": "5ad27f1d-ab09-43f2-e298-695a570c057b",
    "tags": []
   },
   "outputs": [
    {
     "data": {
      "text/html": [
       "<iframe width=\"560\" height=\"315\" src=\"https://www.assemblyai.com/blog/content/media/2022/02/not_parallel-2.mp4\" frameborder=\"0\" allow=\"accelerometer; autoplay; encrypted-media; gyroscope; picture-in-picture\" allowfullscreen></iframe>"
      ],
      "text/plain": [
       "<IPython.core.display.HTML object>"
      ]
     },
     "execution_count": 32,
     "metadata": {},
     "output_type": "execute_result"
    }
   ],
   "source": [
    "# @title Illustration of Sequential Dot Product (Run me)\n",
    "from IPython.display import HTML\n",
    "\n",
    "HTML(\n",
    "    '<iframe width=\"560\" height=\"315\" src=\"https://www.assemblyai.com/blog/content/media/2022/02/not_parallel-2.mp4\" frameborder=\"0\" allow=\"accelerometer; autoplay; encrypted-media; gyroscope; picture-in-picture\" allowfullscreen></iframe>'\n",
    ")"
   ]
  },
  {
   "cell_type": "code",
   "execution_count": 37,
   "metadata": {
    "colab": {
     "base_uri": "https://localhost:8080/"
    },
    "id": "-6R3OfPgUDL0",
    "outputId": "a2f0f771-870d-4b71-cd0b-b1e5378293b7",
    "tags": []
   },
   "outputs": [
    {
     "name": "stdout",
     "output_type": "stream",
     "text": [
      "205 ms ± 2.13 ms per loop (mean ± std. dev. of 7 runs, 5 loops each)\n"
     ]
    }
   ],
   "source": [
    "# Let's generate a batch of size 8, each with a matrix of size (500, 600)\n",
    "\n",
    "# Let create 8 keys, 1 for each batch\n",
    "num_devices = jax.device_count()\n",
    "keys = jax.random.split(jax.random.PRNGKey(0), num_devices)\n",
    "\n",
    "# Let create our batches\n",
    "mats = jnp.stack([jax.random.normal(key, (500, 600)) for key in keys])\n",
    "\n",
    "\n",
    "def dot_product_sequential():\n",
    "    @jit\n",
    "    def avg_dot_prod(mats):\n",
    "        result = []\n",
    "        # Loop through batch and compute dp\n",
    "        for mat in mats:\n",
    "            # dot product between the a mat and mat.T (transposed version)\n",
    "            result.append(jnp.dot(mat, mat.T))\n",
    "        return jnp.stack(result)\n",
    "\n",
    "    avg_dot_prod(mats).block_until_ready()\n",
    "\n",
    "\n",
    "run_sequential = %timeit -o -n 5 dot_product_sequential()"
   ]
  },
  {
   "cell_type": "code",
   "execution_count": 38,
   "metadata": {
    "colab": {
     "base_uri": "https://localhost:8080/",
     "height": 337
    },
    "id": "fz35stVsFbQT",
    "outputId": "ab5a7a9a-5a19-45a8-8c58-fe0e1bda943d",
    "tags": []
   },
   "outputs": [
    {
     "data": {
      "text/html": [
       "<iframe width=\"560\" height=\"315\" src=\"https://www.assemblyai.com/blog/content/media/2022/02/parallelized.mp4\" frameborder=\"0\" allow=\"accelerometer; autoplay; encrypted-media; gyroscope; picture-in-picture\" allowfullscreen></iframe>"
      ],
      "text/plain": [
       "<IPython.core.display.HTML object>"
      ]
     },
     "execution_count": 38,
     "metadata": {},
     "output_type": "execute_result"
    }
   ],
   "source": [
    "# @title Illustration of Parallel Dot Product (Run me)\n",
    "HTML(\n",
    "    '<iframe width=\"560\" height=\"315\" src=\"https://www.assemblyai.com/blog/content/media/2022/02/parallelized.mp4\" frameborder=\"0\" allow=\"accelerometer; autoplay; encrypted-media; gyroscope; picture-in-picture\" allowfullscreen></iframe>'\n",
    ")"
   ]
  },
  {
   "cell_type": "code",
   "execution_count": 39,
   "metadata": {
    "id": "MQ6oXHVxUSrt",
    "tags": []
   },
   "outputs": [],
   "source": [
    "# Let create 8 keys, 1 for each batch\n",
    "num_devices = jax.device_count()\n",
    "keys = jax.random.split(jax.random.PRNGKey(0), num_devices)\n",
    "\n",
    "# Each replicated pmapped function get a different key\n",
    "mats = pmap(lambda key: jax.random.normal(key, (500, 600)))(keys)"
   ]
  },
  {
   "cell_type": "code",
   "execution_count": 40,
   "metadata": {
    "colab": {
     "base_uri": "https://localhost:8080/"
    },
    "id": "6aaqlSKCUZ70",
    "outputId": "6dd0bafe-75f0-424c-bf0e-d5ae72beb003",
    "tags": []
   },
   "outputs": [
    {
     "name": "stdout",
     "output_type": "stream",
     "text": [
      "(4, 500, 600)\n"
     ]
    }
   ],
   "source": [
    "print(mats.shape)"
   ]
  },
  {
   "cell_type": "code",
   "execution_count": 41,
   "metadata": {
    "colab": {
     "base_uri": "https://localhost:8080/"
    },
    "id": "tEVj-2cEUzRu",
    "outputId": "d13dd922-5087-4d4e-9126-c928e0d8bf27",
    "tags": []
   },
   "outputs": [
    {
     "name": "stdout",
     "output_type": "stream",
     "text": [
      "<class 'jaxlib.xla_extension.pmap_lib.ShardedDeviceArray'>\n"
     ]
    }
   ],
   "source": [
    "print(type(mats))"
   ]
  },
  {
   "cell_type": "code",
   "execution_count": 42,
   "metadata": {
    "colab": {
     "base_uri": "https://localhost:8080/"
    },
    "id": "LF0Ms0kTU0f2",
    "outputId": "464ad411-79d6-4a0e-b8f9-e913bfc45c86",
    "tags": []
   },
   "outputs": [
    {
     "name": "stdout",
     "output_type": "stream",
     "text": [
      "101 ms ± 576 µs per loop (mean ± std. dev. of 7 runs, 5 loops each)\n"
     ]
    }
   ],
   "source": [
    "def dot_product_parallel():\n",
    "\n",
    "    # Run a local matmul on each device in parallel (no data transfer)\n",
    "    result = pmap(lambda x: jnp.dot(x, x.T))(\n",
    "        mats\n",
    "    ).block_until_ready()  # result.shape is (8, 5000, 5000)\n",
    "\n",
    "\n",
    "run_parallel = %timeit -o -n  5 dot_product_parallel()"
   ]
  },
  {
   "cell_type": "code",
   "execution_count": 43,
   "metadata": {
    "colab": {
     "base_uri": "https://localhost:8080/",
     "height": 489
    },
    "id": "clQo4mAOWhHP",
    "outputId": "388d5b67-fd3c-42a2-b25b-817f88d1d7c6",
    "tags": []
   },
   "outputs": [
    {
     "data": {
      "image/png": "[encoded data removed]",
      "text/plain": [
       "<Figure size 640x480 with 1 Axes>"
      ]
     },
     "metadata": {},
     "output_type": "display_data"
    },
    {
     "name": "stdout",
     "output_type": "stream",
     "text": [
      "JAX (parallel - pmap) was 2.04 times faster than JAX (seq) !!!\n"
     ]
    }
   ],
   "source": [
    "# @title Let's plot the performance difference (Run Cell)\n",
    "\n",
    "jax_parallel_time = np.mean(run_parallel.all_runs)\n",
    "jax_seq_time = np.mean(run_sequential.all_runs)\n",
    "\n",
    "\n",
    "data = {\"JAX (seq)\": jax_seq_time, \"JAX (parallel - pmap)\": jax_parallel_time}\n",
    "\n",
    "plot_performance(data, title=\"Average time taken for Seq vs Parallel Dot Product\")"
   ]
  },
  {
   "cell_type": "markdown",
   "metadata": {
    "id": "kkdWuxuETlbE"
   },
   "source": [
    "# 📈 Model Training\n",
    "\n",
    "So far we have only used core JAX for our development. This can be tedious, especially when dealing with larger models and when using more complicated optimization methods.\n",
    "\n",
    "Luckily, JAX has higher-level neural network libraries such as Haiku, which make building models more convenient, and libraries like Optax, that make gradient processing and optimization more convenient. As well as that, we can easily use other frameworks, such as TensorFlow, to handle things like dataloaders. \n",
    "\n",
    "In this section, we will briefly go through how to training a simple linear regression model using [Haiku](https://github.com/deepmind/dm-haiku), [Optax](https://github.com/deepmind/optax) and [TensorFlow Datasets](https://www.tensorflow.org/api_docs/python/tf/data/Dataset)."
   ]
  },
  {
   "cell_type": "code",
   "execution_count": 44,
   "metadata": {
    "id": "b10HShWdcTKw",
    "tags": []
   },
   "outputs": [],
   "source": [
    "%%capture\n",
    "# @title Install Haiku and Optax. (Run Cell)\n",
    "!pip install -U dm-haiku\n",
    "# For plotting.\n",
    "!pip install livelossplot"
   ]
  },
  {
   "cell_type": "code",
   "execution_count": 45,
   "metadata": {
    "id": "q50HNKJwrgV4",
    "tags": []
   },
   "outputs": [
    {
     "name": "stderr",
     "output_type": "stream",
     "text": [
      "2023-06-12 23:39:42.435920: W tensorflow/compiler/tf2tensorrt/utils/py_utils.cc:38] TF-TRT Warning: Could not find TensorRT\n"
     ]
    }
   ],
   "source": [
    "from typing import NamedTuple, Tuple\n",
    "import haiku as hk\n",
    "import jax\n",
    "from jax import numpy as jnp\n",
    "import tensorflow as tf\n",
    "import numpy as np\n",
    "import optax\n",
    "import functools"
   ]
  },
  {
   "cell_type": "code",
   "execution_count": 59,
   "metadata": {
    "id": "Y6pfXJ5GrG9I",
    "tags": []
   },
   "outputs": [],
   "source": [
    "# @title Build our Dataset with TensorFlow Dataset \n",
    "\n",
    "\n",
    "def make_dataset(size: int = 128, batch_size: int = 32, true_w: int = 2,\n",
    "                 true_b: int = -1, noise: float = 0.5) -> tf.data.Iterator:\n",
    "\n",
    "    \n",
    "    # Generate true data from y = w*x + b + noise\n",
    "    xs = np.random.normal(size=(size, 1))\n",
    "    noise = 0.5 * np.random.normal(size=(size, 1))\n",
    "    ys = xs * true_w + true_b + noise\n",
    "\n",
    "    # Create a tensorflow dataset\n",
    "    data = tf.data.Dataset.from_tensor_slices((xs, ys))\n",
    "    data = data.batch(batch_size) \n",
    "    data = data.repeat() # enable repeating for multiple epochs\n",
    "\n",
    "    # Convert tf.Dataset to NumPy iterator, for better compatibility with JAX\n",
    "    dataset =  iter(data.as_numpy_iterator())\n",
    "\n",
    "    return dataset"
   ]
  },
  {
   "cell_type": "code",
   "execution_count": 60,
   "metadata": {
    "id": "t8Wd99CureND",
    "tags": []
   },
   "outputs": [],
   "source": [
    "# @title Data Parallel Learning\n",
    "class TrainingState(NamedTuple):\n",
    "    \"\"\"Container for the training state.\"\"\"\n",
    "    params: hk.Params\n",
    "    opt_state: optax.OptState\n",
    "    step: jnp.DeviceArray\n",
    "\n",
    "def model_fn(x: jnp.ndarray) -> jnp.ndarray:\n",
    "    net = hk.Sequential([\n",
    "    hk.Linear(output_size=1, name='linear')\n",
    "    ])\n",
    "    return net(x)\n",
    "\n",
    "# Transforms the model function into a pair of pure functions using Haiku's init and apply functions.\n",
    "model = hk.without_apply_rng(hk.transform(model_fn))\n",
    "\n",
    "def loss_fn(params: hk.Params, xs: jnp.ndarray, ys: jnp.ndarray) -> jnp.ndarray:\n",
    "    \"\"\"Computes the least squares error of the model's \n",
    "    predictions on x against y.\n",
    "    \"\"\"\n",
    "    pred = model.apply(params, xs)\n",
    "    return jnp.mean((pred - ys) ** 2)\n",
    "\n",
    "@functools.partial(jax.pmap, axis_name='num_devices')\n",
    "def update(state: TrainingState, \n",
    "           xs: jnp.ndarray, \n",
    "           ys: jnp.ndarray) -> Tuple[TrainingState, jnp.array]:\n",
    "    \"\"\"Performs one SGD update step on params using the given data.\"\"\"\n",
    "\n",
    "    loss, grads = jax.value_and_grad(loss_fn)(state.params, xs, ys)\n",
    "\n",
    "    # Combine the gradient across all devices (by taking their mean).\n",
    "    grads = jax.lax.pmean(grads, axis_name='num_devices')\n",
    "\n",
    "    # Also combine the loss. Unnecessary for the update, but useful for logging.\n",
    "    loss = jax.lax.pmean(loss, axis_name='num_devices')\n",
    "\n",
    "    # Use optax to update the gradients.\n",
    "    updates, new_opt_state = optimizer.update(grads, state.opt_state)\n",
    "    new_params = optax.apply_updates(state.params, updates)\n",
    "\n",
    "    return TrainingState(new_params, new_opt_state, state.step + 1), loss\n"
   ]
  },
  {
   "cell_type": "code",
   "execution_count": 61,
   "metadata": {
    "colab": {
     "base_uri": "https://localhost:8080/"
    },
    "id": "bmhFujp9rppb",
    "outputId": "4a6400f7-0a12-454e-9fa1-cd276d676b69",
    "tags": []
   },
   "outputs": [],
   "source": [
    "# @title State Initialization\n",
    "\n",
    "# Initialise parameters and replicate across devices.\n",
    "data_iter = make_dataset()\n",
    "init_params = model.init(jax.random.PRNGKey(123), next(data_iter)[0])\n",
    "n_devices = jax.local_device_count()\n",
    "devices = jax.local_devices()\n",
    "\n",
    "# Initialize the optimizer and its state.\n",
    "optimizer = optax.sgd(0.005)\n",
    "opt_state = optimizer.init(init_params)\n",
    "\n",
    "# Initialize training state\n",
    "state = TrainingState(init_params, opt_state, jnp.array(0))\n",
    "state = jax.device_put_sharded([state] * len(devices), devices)"
   ]
  },
  {
   "cell_type": "code",
   "execution_count": 62,
   "metadata": {
    "colab": {
     "base_uri": "https://localhost:8080/",
     "height": 430
    },
    "id": "XcPgR1KusXoG",
    "outputId": "4acbf470-6ad9-49ea-f879-aae566342465",
    "tags": []
   },
   "outputs": [
    {
     "data": {
      "image/png": "[encoded data removed]",
      "text/plain": [
       "<Figure size 640x480 with 1 Axes>"
      ]
     },
     "metadata": {},
     "output_type": "display_data"
    }
   ],
   "source": [
    "# @title Test out our untrained model\n",
    "import matplotlib.pyplot as plt\n",
    "\n",
    "# remember, our params are replicated across all devices, so we want to just\n",
    "# take params from one of them.\n",
    "params = jax.device_get(jax.tree_map(lambda x: x[0], state.params))\n",
    "xs, ys = next(data_iter)\n",
    "\n",
    "plt.scatter(xs, ys)\n",
    "plt.plot(xs, params['linear']['w'] * xs + params['linear']['b'], c='red', label='Model Prediction')\n",
    "plt.legend()\n",
    "plt.show()"
   ]
  },
  {
   "cell_type": "code",
   "execution_count": 63,
   "metadata": {
    "colab": {
     "base_uri": "https://localhost:8080/"
    },
    "id": "j2TmoRCvr7zE",
    "outputId": "499355aa-e2b4-40c6-8493-00e438a411fc",
    "tags": []
   },
   "outputs": [
    {
     "name": "stdout",
     "output_type": "stream",
     "text": [
      "Step 0, loss: 10.709\n",
      "Step 100, loss: 1.722\n",
      "Step 200, loss: 0.464\n",
      "Step 300, loss: 0.307\n",
      "Step 400, loss: 0.296\n",
      "Step 500, loss: 0.300\n",
      "Step 600, loss: 0.303\n",
      "Step 700, loss: 0.304\n",
      "Step 800, loss: 0.304\n",
      "Step 900, loss: 0.305\n"
     ]
    }
   ],
   "source": [
    "# @title Training Loop\n",
    "def split(data: np.ndarray, n_devices: int) -> np.ndarray:\n",
    "  \"\"\"Splits the first axis of `data` evenly across the number of devices.\"\"\"\n",
    "  return data.reshape(n_devices, data.shape[0] // n_devices, *data.shape[1:])\n",
    "\n",
    "# Actual training loop.\n",
    "for i in range(1000):\n",
    "    # Fetch next batch\n",
    "    xs, ys = next(data_iter)\n",
    "\n",
    "    # Reshape xs and ys for the pmapped `update()`.\n",
    "    x_split = split(xs, n_devices)\n",
    "    y_split = split(ys, n_devices)\n",
    "\n",
    "    state, loss = update(state, x_split, y_split)\n",
    "\n",
    "    if i % 100 == 0:\n",
    "        # Note that loss is actually an array of shape [num_devices], with identical\n",
    "        # entries, because each device returns its copy of the loss.\n",
    "        # So, we take the first element to print it.\n",
    "        print(f\"Step {i}, loss: {loss[0]:.3f}\")"
   ]
  },
  {
   "cell_type": "code",
   "execution_count": 64,
   "metadata": {
    "colab": {
     "base_uri": "https://localhost:8080/",
     "height": 467
    },
    "id": "bIhWkJJDed35",
    "outputId": "f939a78b-d8dd-445e-bcf2-c76fb07c907f",
    "tags": []
   },
   "outputs": [
    {
     "name": "stdout",
     "output_type": "stream",
     "text": [
      "Trained model's parameters: {'linear': {'b': array([-0.9276721], dtype=float32), 'w': array([[2.0231636]], dtype=float32)}}\n"
     ]
    },
    {
     "data": {
      "image/png": "[encoded data removed]",
      "text/plain": [
       "<Figure size 640x480 with 1 Axes>"
      ]
     },
     "metadata": {},
     "output_type": "display_data"
    }
   ],
   "source": [
    "# @title Evlauate our trained model\n",
    "\n",
    "# Like the loss, the leaves of params have an extra leading dimension,\n",
    "# so we take the params from the first device.\n",
    "params = jax.device_get(jax.tree_map(lambda x: x[0], state.params))\n",
    "\n",
    "# Printing the trained model's parameters\n",
    "print(\"Trained model's parameters:\", params)\n",
    "\n",
    "plt.scatter(xs, ys)\n",
    "plt.plot(xs, params['linear']['w'] * xs + params['linear']['b'], c='red', label='Model Prediction')\n",
    "plt.legend()\n",
    "plt.show()"
   ]
  },
  {
   "cell_type": "markdown",
   "metadata": {
    "id": "Un0kkCZ0tEzK"
   },
   "source": [
    "# 🔢 Coding Challenge! \n",
    "\n",
    "Now that you have gone through all the key aspects of building a JAX ML model try and test yourself by building out a custom JAX to train on the MNIST dataset. \n",
    "\n",
    "If you get stuck, refer back to the Linear Regression example above or check out some of the Further Reading in the section below. "
   ]
  },
  {
   "cell_type": "code",
   "execution_count": 56,
   "metadata": {
    "id": "E80tdy2vtcSl",
    "tags": []
   },
   "outputs": [
    {
     "ename": "SyntaxError",
     "evalue": "invalid syntax (3174167302.py, line 44)",
     "output_type": "error",
     "traceback": [
      "\u001b[0;36m  Cell \u001b[0;32mIn[56], line 44\u001b[0;36m\u001b[0m\n\u001b[0;31m    network = # TODO\u001b[0m\n\u001b[0m              ^\u001b[0m\n\u001b[0;31mSyntaxError\u001b[0m\u001b[0;31m:\u001b[0m invalid syntax\n"
     ]
    }
   ],
   "source": [
    "from typing import Iterator, NamedTuple\n",
    "\n",
    "from absl import app\n",
    "import haiku as hk\n",
    "import jax\n",
    "import jax.numpy as jnp\n",
    "import numpy as np\n",
    "import optax\n",
    "import tensorflow_datasets as tfds\n",
    "\n",
    "NUM_CLASSES = 10  # MNIST has 10 classes (hand-written digits).\n",
    "\n",
    "class Batch(NamedTuple):\n",
    "    image: np.ndarray  # [B, H, W, 1]\n",
    "    label: np.ndarray  # [B]\n",
    "\n",
    "class TrainingState(NamedTuple):\n",
    "  params: hk.Params\n",
    "  opt_state: optax.OptState\n",
    "\n",
    "# MNIST Dataset\n",
    "def load_dataset(\n",
    "    split: str,\n",
    "    *,\n",
    "    shuffle: bool,\n",
    "    batch_size: int,\n",
    "):\n",
    "    \"\"\"Loads the MNIST dataset into a handy TensorFlow Dataset.\"\"\"\n",
    "    ds, ds_info = tfds.load(\"mnist:3.*.*\", split=split, with_info=True)\n",
    "    ds.cache()\n",
    "    if shuffle:\n",
    "        ds = ds.shuffle(ds_info.splits[split].num_examples, seed=0)\n",
    "    ds = ds.repeat()\n",
    "    ds = ds.batch(batch_size)\n",
    "    ds = ds.map(lambda x: Batch(**x))\n",
    "    return iter(tfds.as_numpy(ds))\n",
    "\n",
    "\n",
    "# Model\n",
    "def net_fn(images: jax.Array) -> jax.Array:\n",
    "    \"\"\"Create a simple network that is able to train on the MNIST dataset.\"\"\"\n",
    "    # TODO\n",
    "\n",
    "network = # TODO\n",
    "optimiser = # TODO\n",
    "\n",
    "def loss_fn(params: hk.Params, batch: Batch) -> jax.Array:\n",
    "    \"\"\"Cross-entropy classification loss, regularised by L2 weight decay.\"\"\"\n",
    "    # TODO\n",
    "\n",
    "@jax.jit\n",
    "def update(state: TrainingState, batch: Batch) -> TrainingState:\n",
    "    \"\"\"Learning rule (stochastic gradient descent).\"\"\"\n",
    "    # TODO\n",
    "\n",
    "# Make datasets.\n",
    "train_dataset = load_dataset(\"train\", shuffle=True, batch_size=1_000)\n",
    "\n",
    "# Initialise network and optimiser; note we draw an input to get shapes.\n",
    "state = #TODO\n",
    "\n",
    "# Training & evaluation loop.\n",
    "for step in range(2000):\n",
    "\n",
    "    # Do SGD on a batch of training examples.\n",
    "    state, loss = update(state, next(train_dataset))\n",
    "\n",
    "    if step % 100 == 0:\n",
    "        print(f\"Step {step}, loss: {loss:.3f}\")"
   ]
  },
  {
   "cell_type": "markdown",
   "metadata": {
    "id": "-mI2c8DjwS3n"
   },
   "source": [
    "# 📚Further Reading\n",
    "\n",
    "This is just a taste of all you can do using JAX. Here are some of our favourite resources for becoming a JAX pro. For a more in depth version of this workshop, make sure to checkout [Intro To ML Using JAX](https://github.com/deep-learning-indaba/indaba-pracs-2022/blob/main/practicals/Introduction_to_ML_using_JAX.ipynb) from Deep Learning Indaba 2022! \n",
    "\n",
    "\n",
    "* [Jax Documentation](https://jax.readthedocs.io/en/latest/)\n",
    "* [Intro To ML Using JAX](https://github.com/deep-learning-indaba/indaba-pracs-2022/blob/main/practicals/Introduction_to_ML_using_JAX.ipynb)\n",
    "* [Awesome Jax: Currated List Of JAX Resources](https://github.com/n2cholas/awesome-jax)\n",
    "* [JAX Zero To Hero](https://www.youtube.com/watch?v=SstuvS-tVc0&list=PLBoQnSflObckOARbMK9Lt98Id0AKcZurq)\n",
    "* [Why You Should (Or Shouldn't) Be Using JAX - Assembly AI](https://www.assemblyai.com/blog/why-you-should-or-shouldnt-be-using-jax-in-2023/#:~:text=If%20most%20of%20your%20work,to%20use%20JAX%20going%20forward.)"
   ]
  },
  {
   "cell_type": "code",
   "execution_count": null,
   "metadata": {
    "id": "-PfhOV3vZckG"
   },
   "outputs": [],
   "source": []
  }
 ],
 "metadata": {
  "accelerator": "TPU",
  "colab": {
   "gpuType": "T4",
   "provenance": [],
   "toc_visible": true
  },
  "kernelspec": {
   "display_name": "Python 3 (ipykernel)",
   "language": "python",
   "name": "python3"
  },
  "language_info": {
   "codemirror_mode": {
    "name": "ipython",
    "version": 3
   },
   "file_extension": ".py",
   "mimetype": "text/x-python",
   "name": "python",
   "nbconvert_exporter": "python",
   "pygments_lexer": "ipython3",
   "version": "3.8.16"
  }
 },
 "nbformat": 4,
 "nbformat_minor": 4
}
